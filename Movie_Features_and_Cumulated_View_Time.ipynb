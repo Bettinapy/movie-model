{
  "nbformat": 4,
  "nbformat_minor": 0,
  "metadata": {
    "colab": {
      "name": "Movie Features and Cumulated View Time.ipynb",
      "provenance": [],
      "include_colab_link": true
    },
    "kernelspec": {
      "name": "python3",
      "display_name": "Python 3"
    }
  },
  "cells": [
    {
      "cell_type": "markdown",
      "metadata": {
        "id": "view-in-github",
        "colab_type": "text"
      },
      "source": [
        "<a href=\"https://colab.research.google.com/github/Bettinapy/movie-model/blob/master/Movie_Features_and_Cumulated_View_Time.ipynb\" target=\"_parent\"><img src=\"https://colab.research.google.com/assets/colab-badge.svg\" alt=\"Open In Colab\"/></a>"
      ]
    },
    {
      "cell_type": "markdown",
      "metadata": {
        "id": "Yr3r7Y0KWIbX",
        "colab_type": "text"
      },
      "source": [
        "# **1. Load Data**"
      ]
    },
    {
      "cell_type": "markdown",
      "metadata": {
        "id": "v7_92g__WYVr",
        "colab_type": "text"
      },
      "source": [
        "**1.1 Load Packages**\n",
        "\n"
      ]
    },
    {
      "cell_type": "code",
      "metadata": {
        "id": "bX47_gGZXtSX",
        "colab_type": "code",
        "colab": {}
      },
      "source": [
        "# Load libraries\n",
        "import pandas as pd\n",
        "from pandas.plotting import scatter_matrix\n",
        "import numpy as np\n",
        "import matplotlib.pyplot as plt\n",
        "import scipy\n",
        "import statsmodels.formula.api as sm\n",
        "import seaborn as sns\n",
        "import sklearn as sl\n",
        "from sklearn import preprocessing # use StandardScaler for feature scaling"
      ],
      "execution_count": 0,
      "outputs": []
    },
    {
      "cell_type": "markdown",
      "metadata": {
        "id": "9Imh9AmoYhWi",
        "colab_type": "text"
      },
      "source": [
        "**1.2 Load Dataset**"
      ]
    },
    {
      "cell_type": "code",
      "metadata": {
        "id": "wNJJUZ4ZcDWY",
        "colab_type": "code",
        "colab": {}
      },
      "source": [
        "# install pydrive to load data\n",
        "!pip install -U -q PyDrive\n",
        "\n",
        "from pydrive.auth import GoogleAuth\n",
        "from pydrive.drive import GoogleDrive\n",
        "from google.colab import auth\n",
        "from oauth2client.client import GoogleCredentials\n",
        "\n",
        "auth.authenticate_user()\n",
        "gauth = GoogleAuth()\n",
        "gauth.credentials = GoogleCredentials.get_application_default()\n",
        "drive = GoogleDrive(gauth)"
      ],
      "execution_count": 0,
      "outputs": []
    },
    {
      "cell_type": "code",
      "metadata": {
        "id": "QeChhWICc5Uc",
        "colab_type": "code",
        "colab": {}
      },
      "source": [
        "link = 'https://drive.google.com/open?id=13G3aYKWR53edneCqe_o36-7kZNUbYY7H'\n",
        "fluff, id = link.split('=')\n",
        "file = drive.CreateFile({'id':id}) # replace the id with id of file you want to access\n",
        "file.GetContentFile('TVdata.txt') "
      ],
      "execution_count": 0,
      "outputs": []
    },
    {
      "cell_type": "markdown",
      "metadata": {
        "id": "QlRzoTVEZaOv",
        "colab_type": "text"
      },
      "source": [
        "**1.3 Summarize the Dataset**"
      ]
    },
    {
      "cell_type": "markdown",
      "metadata": {
        "id": "hACT-gD_Zfrt",
        "colab_type": "text"
      },
      "source": [
        "Video_id is the unique id of the dataset, cvt_per_day is the target feature, the rest of the columns are categorical/numeric features of different videos."
      ]
    },
    {
      "cell_type": "code",
      "metadata": {
        "id": "HTFkAZsqddyZ",
        "colab_type": "code",
        "outputId": "18e73b2b-3579-4e2a-fa6e-0fd4feac912c",
        "colab": {
          "base_uri": "https://localhost:8080/",
          "height": 291
        }
      },
      "source": [
        "tv_df = pd.read_csv('TVdata.txt') #read data\n",
        "tv_df.head() #display the first 5 rows"
      ],
      "execution_count": 0,
      "outputs": [
        {
          "output_type": "execute_result",
          "data": {
            "text/html": [
              "<div>\n",
              "<style scoped>\n",
              "    .dataframe tbody tr th:only-of-type {\n",
              "        vertical-align: middle;\n",
              "    }\n",
              "\n",
              "    .dataframe tbody tr th {\n",
              "        vertical-align: top;\n",
              "    }\n",
              "\n",
              "    .dataframe thead th {\n",
              "        text-align: right;\n",
              "    }\n",
              "</style>\n",
              "<table border=\"1\" class=\"dataframe\">\n",
              "  <thead>\n",
              "    <tr style=\"text-align: right;\">\n",
              "      <th></th>\n",
              "      <th>video_id</th>\n",
              "      <th>cvt_per_day</th>\n",
              "      <th>weighted_categorical_position</th>\n",
              "      <th>weighted_horizontal_poition</th>\n",
              "      <th>import_id</th>\n",
              "      <th>release_year</th>\n",
              "      <th>genres</th>\n",
              "      <th>imdb_votes</th>\n",
              "      <th>budget</th>\n",
              "      <th>boxoffice</th>\n",
              "      <th>imdb_rating</th>\n",
              "      <th>duration_in_mins</th>\n",
              "      <th>metacritic_score</th>\n",
              "      <th>awards</th>\n",
              "      <th>mpaa</th>\n",
              "      <th>star_category</th>\n",
              "    </tr>\n",
              "  </thead>\n",
              "  <tbody>\n",
              "    <tr>\n",
              "      <th>0</th>\n",
              "      <td>385504</td>\n",
              "      <td>307127.605608</td>\n",
              "      <td>1</td>\n",
              "      <td>3</td>\n",
              "      <td>lionsgate</td>\n",
              "      <td>2013</td>\n",
              "      <td>Action,Thriller,Drama</td>\n",
              "      <td>69614</td>\n",
              "      <td>15000000</td>\n",
              "      <td>42930462</td>\n",
              "      <td>6.5</td>\n",
              "      <td>112.301017</td>\n",
              "      <td>51</td>\n",
              "      <td>other award</td>\n",
              "      <td>PG-13</td>\n",
              "      <td>1.710000</td>\n",
              "    </tr>\n",
              "    <tr>\n",
              "      <th>1</th>\n",
              "      <td>300175</td>\n",
              "      <td>270338.426375</td>\n",
              "      <td>1</td>\n",
              "      <td>3</td>\n",
              "      <td>lionsgate</td>\n",
              "      <td>2013</td>\n",
              "      <td>Comedy,Crime,Thriller</td>\n",
              "      <td>46705</td>\n",
              "      <td>15000000</td>\n",
              "      <td>3301046</td>\n",
              "      <td>6.5</td>\n",
              "      <td>94.983250</td>\n",
              "      <td>41</td>\n",
              "      <td>no award</td>\n",
              "      <td>R</td>\n",
              "      <td>3.250000</td>\n",
              "    </tr>\n",
              "    <tr>\n",
              "      <th>2</th>\n",
              "      <td>361899</td>\n",
              "      <td>256165.867446</td>\n",
              "      <td>1</td>\n",
              "      <td>3</td>\n",
              "      <td>other</td>\n",
              "      <td>2012</td>\n",
              "      <td>Crime,Drama</td>\n",
              "      <td>197596</td>\n",
              "      <td>26000000</td>\n",
              "      <td>37397291</td>\n",
              "      <td>7.3</td>\n",
              "      <td>115.763675</td>\n",
              "      <td>58</td>\n",
              "      <td>other award</td>\n",
              "      <td>R</td>\n",
              "      <td>2.646667</td>\n",
              "    </tr>\n",
              "    <tr>\n",
              "      <th>3</th>\n",
              "      <td>308314</td>\n",
              "      <td>196622.720996</td>\n",
              "      <td>3</td>\n",
              "      <td>4</td>\n",
              "      <td>lionsgate</td>\n",
              "      <td>2008</td>\n",
              "      <td>Thriller,Drama,War,Documentary,Mystery,Action</td>\n",
              "      <td>356339</td>\n",
              "      <td>15000000</td>\n",
              "      <td>15700000</td>\n",
              "      <td>7.6</td>\n",
              "      <td>130.703583</td>\n",
              "      <td>94</td>\n",
              "      <td>Oscar</td>\n",
              "      <td>R</td>\n",
              "      <td>1.666667</td>\n",
              "    </tr>\n",
              "    <tr>\n",
              "      <th>4</th>\n",
              "      <td>307201</td>\n",
              "      <td>159841.652064</td>\n",
              "      <td>1</td>\n",
              "      <td>3</td>\n",
              "      <td>lionsgate</td>\n",
              "      <td>2013</td>\n",
              "      <td>Crime,Thriller,Mystery,Documentary</td>\n",
              "      <td>46720</td>\n",
              "      <td>27220000</td>\n",
              "      <td>8551228</td>\n",
              "      <td>6.4</td>\n",
              "      <td>105.545533</td>\n",
              "      <td>37</td>\n",
              "      <td>other award</td>\n",
              "      <td>R</td>\n",
              "      <td>3.066667</td>\n",
              "    </tr>\n",
              "  </tbody>\n",
              "</table>\n",
              "</div>"
            ],
            "text/plain": [
              "   video_id    cvt_per_day  ...   mpaa  star_category\n",
              "0    385504  307127.605608  ...  PG-13       1.710000\n",
              "1    300175  270338.426375  ...      R       3.250000\n",
              "2    361899  256165.867446  ...      R       2.646667\n",
              "3    308314  196622.720996  ...      R       1.666667\n",
              "4    307201  159841.652064  ...      R       3.066667\n",
              "\n",
              "[5 rows x 16 columns]"
            ]
          },
          "metadata": {
            "tags": []
          },
          "execution_count": 6
        }
      ]
    },
    {
      "cell_type": "code",
      "metadata": {
        "id": "Y3GN6ssVeiAj",
        "colab_type": "code",
        "outputId": "9565c1d5-d2f3-4f0a-a945-f9bfa4d11550",
        "colab": {
          "base_uri": "https://localhost:8080/",
          "height": 381
        }
      },
      "source": [
        "tv_df.info() #data info"
      ],
      "execution_count": 0,
      "outputs": [
        {
          "output_type": "stream",
          "text": [
            "<class 'pandas.core.frame.DataFrame'>\n",
            "RangeIndex: 4226 entries, 0 to 4225\n",
            "Data columns (total 16 columns):\n",
            "video_id                         4226 non-null int64\n",
            "cvt_per_day                      4226 non-null float64\n",
            "weighted_categorical_position    4226 non-null int64\n",
            "weighted_horizontal_poition      4226 non-null int64\n",
            "import_id                        4226 non-null object\n",
            "release_year                     4226 non-null int64\n",
            "genres                           4226 non-null object\n",
            "imdb_votes                       4226 non-null int64\n",
            "budget                           4226 non-null int64\n",
            "boxoffice                        4226 non-null int64\n",
            "imdb_rating                      4226 non-null float64\n",
            "duration_in_mins                 4226 non-null float64\n",
            "metacritic_score                 4226 non-null int64\n",
            "awards                           4226 non-null object\n",
            "mpaa                             4226 non-null object\n",
            "star_category                    4226 non-null float64\n",
            "dtypes: float64(4), int64(8), object(4)\n",
            "memory usage: 528.4+ KB\n"
          ],
          "name": "stdout"
        }
      ]
    },
    {
      "cell_type": "code",
      "metadata": {
        "id": "XDSFlo3pi-lT",
        "colab_type": "code",
        "outputId": "0d5fad6f-a0ba-4b53-dbce-bdbfb153cad3",
        "colab": {
          "base_uri": "https://localhost:8080/",
          "height": 51
        }
      },
      "source": [
        "print (\"Num of rows: \" + str(tv_df.shape[0])) # row count\n",
        "print (\"Num of columns: \" + str(tv_df.shape[1])) # col count"
      ],
      "execution_count": 0,
      "outputs": [
        {
          "output_type": "stream",
          "text": [
            "Num of rows: 4226\n",
            "Num of columns: 16\n"
          ],
          "name": "stdout"
        }
      ]
    },
    {
      "cell_type": "markdown",
      "metadata": {
        "id": "nHafxSiEIWaO",
        "colab_type": "text"
      },
      "source": [
        "# **2. Data Exploration**"
      ]
    },
    {
      "cell_type": "markdown",
      "metadata": {
        "id": "d5dLXdhTIaKA",
        "colab_type": "text"
      },
      "source": [
        "**2.1 Duplicates**"
      ]
    },
    {
      "cell_type": "code",
      "metadata": {
        "id": "pdgSOTGkIed2",
        "colab_type": "code",
        "outputId": "5747a248-3446-4cf5-df59-e0967ee8ddaa",
        "colab": {
          "base_uri": "https://localhost:8080/",
          "height": 34
        }
      },
      "source": [
        "# check duplicates: set 'video_id' as index and check duplicates\n",
        "tv_df_idx_video = tv_df.set_index('video_id')\n",
        "if len(tv_df_idx_video[tv_df_idx_video.index.duplicated()]) == 0:\n",
        "  print ('There is no duplicated video_id')"
      ],
      "execution_count": 0,
      "outputs": [
        {
          "output_type": "stream",
          "text": [
            "There is no duplicated video_id\n"
          ],
          "name": "stdout"
        }
      ]
    },
    {
      "cell_type": "markdown",
      "metadata": {
        "id": "3YSqfryvkD6Q",
        "colab_type": "text"
      },
      "source": [
        "**2.2 Understand the numeric features**"
      ]
    },
    {
      "cell_type": "markdown",
      "metadata": {
        "id": "dqPGQanykcxH",
        "colab_type": "text"
      },
      "source": [
        "2.2.1 Missing values"
      ]
    },
    {
      "cell_type": "code",
      "metadata": {
        "id": "bYFTYmgCmP6C",
        "colab_type": "code",
        "outputId": "af4005d0-c213-48f1-bc7e-c6d2ba83386b",
        "colab": {
          "base_uri": "https://localhost:8080/",
          "height": 375
        }
      },
      "source": [
        "# basic stats, check missing values\n",
        "tv_df.drop(['video_id'], axis=1).describe(percentiles = [.1,.25,.5,.75,.95])"
      ],
      "execution_count": 0,
      "outputs": [
        {
          "output_type": "execute_result",
          "data": {
            "text/html": [
              "<div>\n",
              "<style scoped>\n",
              "    .dataframe tbody tr th:only-of-type {\n",
              "        vertical-align: middle;\n",
              "    }\n",
              "\n",
              "    .dataframe tbody tr th {\n",
              "        vertical-align: top;\n",
              "    }\n",
              "\n",
              "    .dataframe thead th {\n",
              "        text-align: right;\n",
              "    }\n",
              "</style>\n",
              "<table border=\"1\" class=\"dataframe\">\n",
              "  <thead>\n",
              "    <tr style=\"text-align: right;\">\n",
              "      <th></th>\n",
              "      <th>cvt_per_day</th>\n",
              "      <th>weighted_categorical_position</th>\n",
              "      <th>weighted_horizontal_poition</th>\n",
              "      <th>release_year</th>\n",
              "      <th>imdb_votes</th>\n",
              "      <th>budget</th>\n",
              "      <th>boxoffice</th>\n",
              "      <th>imdb_rating</th>\n",
              "      <th>duration_in_mins</th>\n",
              "      <th>metacritic_score</th>\n",
              "      <th>star_category</th>\n",
              "    </tr>\n",
              "  </thead>\n",
              "  <tbody>\n",
              "    <tr>\n",
              "      <th>count</th>\n",
              "      <td>4226.000000</td>\n",
              "      <td>4226.000000</td>\n",
              "      <td>4226.000000</td>\n",
              "      <td>4226.000000</td>\n",
              "      <td>4226.000000</td>\n",
              "      <td>4.226000e+03</td>\n",
              "      <td>4.226000e+03</td>\n",
              "      <td>4226.000000</td>\n",
              "      <td>4226.000000</td>\n",
              "      <td>4226.000000</td>\n",
              "      <td>4226.000000</td>\n",
              "    </tr>\n",
              "    <tr>\n",
              "      <th>mean</th>\n",
              "      <td>4218.630239</td>\n",
              "      <td>7.782537</td>\n",
              "      <td>28.103644</td>\n",
              "      <td>2001.056791</td>\n",
              "      <td>6462.924042</td>\n",
              "      <td>2.150743e+06</td>\n",
              "      <td>2.536338e+06</td>\n",
              "      <td>5.257099</td>\n",
              "      <td>89.556123</td>\n",
              "      <td>15.973734</td>\n",
              "      <td>0.954651</td>\n",
              "    </tr>\n",
              "    <tr>\n",
              "      <th>std</th>\n",
              "      <td>13036.079964</td>\n",
              "      <td>6.134183</td>\n",
              "      <td>11.863649</td>\n",
              "      <td>17.496849</td>\n",
              "      <td>31596.006790</td>\n",
              "      <td>7.176604e+06</td>\n",
              "      <td>8.243516e+06</td>\n",
              "      <td>2.122810</td>\n",
              "      <td>21.086183</td>\n",
              "      <td>26.205217</td>\n",
              "      <td>0.955045</td>\n",
              "    </tr>\n",
              "    <tr>\n",
              "      <th>min</th>\n",
              "      <td>2.187625</td>\n",
              "      <td>1.000000</td>\n",
              "      <td>1.000000</td>\n",
              "      <td>1916.000000</td>\n",
              "      <td>0.000000</td>\n",
              "      <td>0.000000e+00</td>\n",
              "      <td>0.000000e+00</td>\n",
              "      <td>0.000000</td>\n",
              "      <td>4.037250</td>\n",
              "      <td>0.000000</td>\n",
              "      <td>0.000000</td>\n",
              "    </tr>\n",
              "    <tr>\n",
              "      <th>10%</th>\n",
              "      <td>141.984913</td>\n",
              "      <td>3.000000</td>\n",
              "      <td>13.000000</td>\n",
              "      <td>1974.000000</td>\n",
              "      <td>8.000000</td>\n",
              "      <td>0.000000e+00</td>\n",
              "      <td>0.000000e+00</td>\n",
              "      <td>2.300000</td>\n",
              "      <td>62.390781</td>\n",
              "      <td>0.000000</td>\n",
              "      <td>0.000000</td>\n",
              "    </tr>\n",
              "    <tr>\n",
              "      <th>25%</th>\n",
              "      <td>351.168776</td>\n",
              "      <td>4.000000</td>\n",
              "      <td>20.000000</td>\n",
              "      <td>1998.000000</td>\n",
              "      <td>81.000000</td>\n",
              "      <td>0.000000e+00</td>\n",
              "      <td>0.000000e+00</td>\n",
              "      <td>4.300000</td>\n",
              "      <td>82.601712</td>\n",
              "      <td>0.000000</td>\n",
              "      <td>0.000000</td>\n",
              "    </tr>\n",
              "    <tr>\n",
              "      <th>50%</th>\n",
              "      <td>1193.499989</td>\n",
              "      <td>6.000000</td>\n",
              "      <td>28.000000</td>\n",
              "      <td>2008.000000</td>\n",
              "      <td>535.000000</td>\n",
              "      <td>0.000000e+00</td>\n",
              "      <td>0.000000e+00</td>\n",
              "      <td>5.800000</td>\n",
              "      <td>90.730308</td>\n",
              "      <td>0.000000</td>\n",
              "      <td>1.000000</td>\n",
              "    </tr>\n",
              "    <tr>\n",
              "      <th>75%</th>\n",
              "      <td>3356.788816</td>\n",
              "      <td>9.000000</td>\n",
              "      <td>36.000000</td>\n",
              "      <td>2012.000000</td>\n",
              "      <td>3053.000000</td>\n",
              "      <td>1.500000e+06</td>\n",
              "      <td>0.000000e+00</td>\n",
              "      <td>6.800000</td>\n",
              "      <td>99.500312</td>\n",
              "      <td>41.000000</td>\n",
              "      <td>1.666667</td>\n",
              "    </tr>\n",
              "    <tr>\n",
              "      <th>95%</th>\n",
              "      <td>14692.833929</td>\n",
              "      <td>22.000000</td>\n",
              "      <td>48.000000</td>\n",
              "      <td>2015.000000</td>\n",
              "      <td>26199.500000</td>\n",
              "      <td>1.200000e+07</td>\n",
              "      <td>8.551228e+06</td>\n",
              "      <td>7.800000</td>\n",
              "      <td>119.131183</td>\n",
              "      <td>65.000000</td>\n",
              "      <td>2.597222</td>\n",
              "    </tr>\n",
              "    <tr>\n",
              "      <th>max</th>\n",
              "      <td>307127.605608</td>\n",
              "      <td>41.000000</td>\n",
              "      <td>70.000000</td>\n",
              "      <td>2017.000000</td>\n",
              "      <td>948630.000000</td>\n",
              "      <td>1.070000e+08</td>\n",
              "      <td>1.842088e+08</td>\n",
              "      <td>10.000000</td>\n",
              "      <td>246.016767</td>\n",
              "      <td>100.000000</td>\n",
              "      <td>4.000000</td>\n",
              "    </tr>\n",
              "  </tbody>\n",
              "</table>\n",
              "</div>"
            ],
            "text/plain": [
              "         cvt_per_day  ...  star_category\n",
              "count    4226.000000  ...    4226.000000\n",
              "mean     4218.630239  ...       0.954651\n",
              "std     13036.079964  ...       0.955045\n",
              "min         2.187625  ...       0.000000\n",
              "10%       141.984913  ...       0.000000\n",
              "25%       351.168776  ...       0.000000\n",
              "50%      1193.499989  ...       1.000000\n",
              "75%      3356.788816  ...       1.666667\n",
              "95%     14692.833929  ...       2.597222\n",
              "max    307127.605608  ...       4.000000\n",
              "\n",
              "[10 rows x 11 columns]"
            ]
          },
          "metadata": {
            "tags": []
          },
          "execution_count": 10
        }
      ]
    },
    {
      "cell_type": "code",
      "metadata": {
        "id": "wvu4wdpknQ2x",
        "colab_type": "code",
        "outputId": "f54221c5-a039-48d1-dd2f-97ab96522007",
        "colab": {
          "base_uri": "https://localhost:8080/",
          "height": 311
        }
      },
      "source": [
        "# count 0 values\n",
        "print((tv_df == 0).sum())"
      ],
      "execution_count": 0,
      "outputs": [
        {
          "output_type": "stream",
          "text": [
            "video_id                            0\n",
            "cvt_per_day                         0\n",
            "weighted_categorical_position       0\n",
            "weighted_horizontal_poition         0\n",
            "import_id                           0\n",
            "release_year                        0\n",
            "genres                              0\n",
            "imdb_votes                        344\n",
            "budget                           2454\n",
            "boxoffice                        3194\n",
            "imdb_rating                       344\n",
            "duration_in_mins                    0\n",
            "metacritic_score                 3012\n",
            "awards                              0\n",
            "mpaa                                0\n",
            "star_category                    1846\n",
            "dtype: int64\n"
          ],
          "name": "stdout"
        }
      ]
    },
    {
      "cell_type": "markdown",
      "metadata": {
        "id": "EWloGlrAnw6C",
        "colab_type": "text"
      },
      "source": [
        "6 numeric features have 0 values. 4 features have over 25% of 0 values: budge, boxoffice, matacritic_score and star_category. 'boxoffice' even has 75% of 0 values. 2 features have over 10% of 0 values: imdb_votes and imdb_rating. "
      ]
    },
    {
      "cell_type": "markdown",
      "metadata": {
        "id": "MdshHjdMpKYR",
        "colab_type": "text"
      },
      "source": [
        "2.2.2 Target feature: cvt_per_day"
      ]
    },
    {
      "cell_type": "code",
      "metadata": {
        "id": "btpp4STFpgUk",
        "colab_type": "code",
        "outputId": "edf40adc-d4d1-46d8-f76d-cb322e08e605",
        "colab": {
          "base_uri": "https://localhost:8080/",
          "height": 296
        }
      },
      "source": [
        "plt.hist(tv_df['cvt_per_day'].values, bins=40, range=(0,15000), density=True, label = 'cvt_per_day')\n",
        "plt.legend(loc='upper right')\n",
        "plt.title('Histogram of cvt_per_day before processing')\n",
        "plt.xlabel('cvt_per_day')\n",
        "plt.ylabel('density')\n",
        "plt.show()"
      ],
      "execution_count": 0,
      "outputs": [
        {
          "output_type": "display_data",
          "data": {
            "image/png": "[encoded data removed]",
            "text/plain": [
              "<Figure size 432x288 with 1 Axes>"
            ]
          },
          "metadata": {
            "tags": []
          }
        }
      ]
    },
    {
      "cell_type": "markdown",
      "metadata": {
        "id": "95h7YEJVF6MI",
        "colab_type": "text"
      },
      "source": [
        "2.2.3 Correlation among numerical features"
      ]
    },
    {
      "cell_type": "code",
      "metadata": {
        "id": "ktkqE-FBGLW4",
        "colab_type": "code",
        "outputId": "f3ca877a-d23f-4783-c41f-dc0bf2f7f9b1",
        "colab": {
          "base_uri": "https://localhost:8080/",
          "height": 375
        }
      },
      "source": [
        "corr_nr = tv_df[['cvt_per_day','weighted_categorical_position','weighted_horizontal_poition', 'imdb_votes'\n",
        "                ,'budget','boxoffice','imdb_rating','duration_in_mins','metacritic_score','star_category']].corr()\n",
        "corr_nr            "
      ],
      "execution_count": 0,
      "outputs": [
        {
          "output_type": "execute_result",
          "data": {
            "text/html": [
              "<div>\n",
              "<style scoped>\n",
              "    .dataframe tbody tr th:only-of-type {\n",
              "        vertical-align: middle;\n",
              "    }\n",
              "\n",
              "    .dataframe tbody tr th {\n",
              "        vertical-align: top;\n",
              "    }\n",
              "\n",
              "    .dataframe thead th {\n",
              "        text-align: right;\n",
              "    }\n",
              "</style>\n",
              "<table border=\"1\" class=\"dataframe\">\n",
              "  <thead>\n",
              "    <tr style=\"text-align: right;\">\n",
              "      <th></th>\n",
              "      <th>cvt_per_day</th>\n",
              "      <th>weighted_categorical_position</th>\n",
              "      <th>weighted_horizontal_poition</th>\n",
              "      <th>imdb_votes</th>\n",
              "      <th>budget</th>\n",
              "      <th>boxoffice</th>\n",
              "      <th>imdb_rating</th>\n",
              "      <th>duration_in_mins</th>\n",
              "      <th>metacritic_score</th>\n",
              "      <th>star_category</th>\n",
              "    </tr>\n",
              "  </thead>\n",
              "  <tbody>\n",
              "    <tr>\n",
              "      <th>cvt_per_day</th>\n",
              "      <td>1.000000</td>\n",
              "      <td>-0.148000</td>\n",
              "      <td>-0.301663</td>\n",
              "      <td>0.297697</td>\n",
              "      <td>0.315886</td>\n",
              "      <td>0.312209</td>\n",
              "      <td>0.058894</td>\n",
              "      <td>0.152217</td>\n",
              "      <td>0.249159</td>\n",
              "      <td>0.246956</td>\n",
              "    </tr>\n",
              "    <tr>\n",
              "      <th>weighted_categorical_position</th>\n",
              "      <td>-0.148000</td>\n",
              "      <td>1.000000</td>\n",
              "      <td>-0.084066</td>\n",
              "      <td>-0.063700</td>\n",
              "      <td>-0.089899</td>\n",
              "      <td>-0.073628</td>\n",
              "      <td>-0.116443</td>\n",
              "      <td>-0.174461</td>\n",
              "      <td>-0.044317</td>\n",
              "      <td>-0.122851</td>\n",
              "    </tr>\n",
              "    <tr>\n",
              "      <th>weighted_horizontal_poition</th>\n",
              "      <td>-0.301663</td>\n",
              "      <td>-0.084066</td>\n",
              "      <td>1.000000</td>\n",
              "      <td>-0.220749</td>\n",
              "      <td>-0.211356</td>\n",
              "      <td>-0.244709</td>\n",
              "      <td>-0.162021</td>\n",
              "      <td>-0.102344</td>\n",
              "      <td>-0.255015</td>\n",
              "      <td>-0.167801</td>\n",
              "    </tr>\n",
              "    <tr>\n",
              "      <th>imdb_votes</th>\n",
              "      <td>0.297697</td>\n",
              "      <td>-0.063700</td>\n",
              "      <td>-0.220749</td>\n",
              "      <td>1.000000</td>\n",
              "      <td>0.272852</td>\n",
              "      <td>0.531467</td>\n",
              "      <td>0.163264</td>\n",
              "      <td>0.155670</td>\n",
              "      <td>0.321860</td>\n",
              "      <td>0.225192</td>\n",
              "    </tr>\n",
              "    <tr>\n",
              "      <th>budget</th>\n",
              "      <td>0.315886</td>\n",
              "      <td>-0.089899</td>\n",
              "      <td>-0.211356</td>\n",
              "      <td>0.272852</td>\n",
              "      <td>1.000000</td>\n",
              "      <td>0.504618</td>\n",
              "      <td>0.105671</td>\n",
              "      <td>0.251342</td>\n",
              "      <td>0.314608</td>\n",
              "      <td>0.321721</td>\n",
              "    </tr>\n",
              "    <tr>\n",
              "      <th>boxoffice</th>\n",
              "      <td>0.312209</td>\n",
              "      <td>-0.073628</td>\n",
              "      <td>-0.244709</td>\n",
              "      <td>0.531467</td>\n",
              "      <td>0.504618</td>\n",
              "      <td>1.000000</td>\n",
              "      <td>0.163673</td>\n",
              "      <td>0.226184</td>\n",
              "      <td>0.464965</td>\n",
              "      <td>0.322329</td>\n",
              "    </tr>\n",
              "    <tr>\n",
              "      <th>imdb_rating</th>\n",
              "      <td>0.058894</td>\n",
              "      <td>-0.116443</td>\n",
              "      <td>-0.162021</td>\n",
              "      <td>0.163264</td>\n",
              "      <td>0.105671</td>\n",
              "      <td>0.163673</td>\n",
              "      <td>1.000000</td>\n",
              "      <td>0.344055</td>\n",
              "      <td>0.346935</td>\n",
              "      <td>0.191768</td>\n",
              "    </tr>\n",
              "    <tr>\n",
              "      <th>duration_in_mins</th>\n",
              "      <td>0.152217</td>\n",
              "      <td>-0.174461</td>\n",
              "      <td>-0.102344</td>\n",
              "      <td>0.155670</td>\n",
              "      <td>0.251342</td>\n",
              "      <td>0.226184</td>\n",
              "      <td>0.344055</td>\n",
              "      <td>1.000000</td>\n",
              "      <td>0.327050</td>\n",
              "      <td>0.309110</td>\n",
              "    </tr>\n",
              "    <tr>\n",
              "      <th>metacritic_score</th>\n",
              "      <td>0.249159</td>\n",
              "      <td>-0.044317</td>\n",
              "      <td>-0.255015</td>\n",
              "      <td>0.321860</td>\n",
              "      <td>0.314608</td>\n",
              "      <td>0.464965</td>\n",
              "      <td>0.346935</td>\n",
              "      <td>0.327050</td>\n",
              "      <td>1.000000</td>\n",
              "      <td>0.452445</td>\n",
              "    </tr>\n",
              "    <tr>\n",
              "      <th>star_category</th>\n",
              "      <td>0.246956</td>\n",
              "      <td>-0.122851</td>\n",
              "      <td>-0.167801</td>\n",
              "      <td>0.225192</td>\n",
              "      <td>0.321721</td>\n",
              "      <td>0.322329</td>\n",
              "      <td>0.191768</td>\n",
              "      <td>0.309110</td>\n",
              "      <td>0.452445</td>\n",
              "      <td>1.000000</td>\n",
              "    </tr>\n",
              "  </tbody>\n",
              "</table>\n",
              "</div>"
            ],
            "text/plain": [
              "                               cvt_per_day  ...  star_category\n",
              "cvt_per_day                       1.000000  ...       0.246956\n",
              "weighted_categorical_position    -0.148000  ...      -0.122851\n",
              "weighted_horizontal_poition      -0.301663  ...      -0.167801\n",
              "imdb_votes                        0.297697  ...       0.225192\n",
              "budget                            0.315886  ...       0.321721\n",
              "boxoffice                         0.312209  ...       0.322329\n",
              "imdb_rating                       0.058894  ...       0.191768\n",
              "duration_in_mins                  0.152217  ...       0.309110\n",
              "metacritic_score                  0.249159  ...       0.452445\n",
              "star_category                     0.246956  ...       1.000000\n",
              "\n",
              "[10 rows x 10 columns]"
            ]
          },
          "metadata": {
            "tags": []
          },
          "execution_count": 13
        }
      ]
    },
    {
      "cell_type": "code",
      "metadata": {
        "id": "E1kfa-XPH46z",
        "colab_type": "code",
        "outputId": "381b0a90-cf57-44f0-a5f4-1861e5534570",
        "colab": {
          "base_uri": "https://localhost:8080/",
          "height": 411
        }
      },
      "source": [
        "# plot the correlation matrix\n",
        "sns.heatmap(corr_nr, cmap = \"Blues\", linewidths=.5)\n",
        "plt.show()"
      ],
      "execution_count": 0,
      "outputs": [
        {
          "output_type": "display_data",
          "data": {
            "image/png": "[encoded data removed]",
            "text/plain": [
              "<Figure size 432x288 with 2 Axes>"
            ]
          },
          "metadata": {
            "tags": []
          }
        }
      ]
    },
    {
      "cell_type": "markdown",
      "metadata": {
        "id": "ZBLnzVTMKL6a",
        "colab_type": "text"
      },
      "source": [
        "**2.3 Understand the categorical features**\n"
      ]
    },
    {
      "cell_type": "markdown",
      "metadata": {
        "id": "YgEpQi5yK-7h",
        "colab_type": "text"
      },
      "source": [
        "2.3.1 Simple features"
      ]
    },
    {
      "cell_type": "code",
      "metadata": {
        "id": "b_LYYehYKUnY",
        "colab_type": "code",
        "outputId": "26f0a986-c38f-4f3e-ff59-e80f6d457d6b",
        "colab": {
          "base_uri": "https://localhost:8080/",
          "height": 1000
        }
      },
      "source": [
        "# use stripplot to show the distribution, boxplot is another choice\n",
        "sns.stripplot(x='import_id', y ='cvt_per_day', data=tv_df, palette=\"husl\")\n",
        "plt.show()\n",
        "# print the value, reset the index of the DataFrame, and use the default one instead.\n",
        "print(tv_df['import_id'].value_counts().reset_index())\n",
        "\n",
        "sns.stripplot(x='mpaa', y ='cvt_per_day', data=tv_df, palette=\"husl\")\n",
        "plt.show()\n",
        "print(tv_df['mpaa'].value_counts().reset_index())\n",
        "\n",
        "sns.stripplot(x='awards', y ='cvt_per_day', data=tv_df, palette=\"husl\")\n",
        "plt.show()\n",
        "print(tv_df['awards'].value_counts().reset_index())"
      ],
      "execution_count": 0,
      "outputs": [
        {
          "output_type": "display_data",
          "data": {
            "image/png": "[encoded data removed]",
            "text/plain": [
              "<Figure size 432x288 with 1 Axes>"
            ]
          },
          "metadata": {
            "tags": []
          }
        },
        {
          "output_type": "stream",
          "text": [
            "       index  import_id\n",
            "0      other       2963\n",
            "1  lionsgate        677\n",
            "2        mgm        445\n",
            "3  paramount        141\n"
          ],
          "name": "stdout"
        },
        {
          "output_type": "display_data",
          "data": {
            "image/png": "[encoded data removed]",
            "text/plain": [
              "<Figure size 432x288 with 1 Axes>"
            ]
          },
          "metadata": {
            "tags": []
          }
        },
        {
          "output_type": "stream",
          "text": [
            "      index  mpaa\n",
            "0  NotRated  2158\n",
            "1         R  1158\n",
            "2     PG-13   426\n",
            "3        PG   353\n",
            "4         G   125\n",
            "5     NC-17     6\n"
          ],
          "name": "stdout"
        },
        {
          "output_type": "display_data",
          "data": {
            "image/png": "[encoded data removed]",
            "text/plain": [
              "<Figure size 432x288 with 1 Axes>"
            ]
          },
          "metadata": {
            "tags": []
          }
        },
        {
          "output_type": "stream",
          "text": [
            "          index  awards\n",
            "0      no award    2569\n",
            "1   other award    1453\n",
            "2         Oscar     141\n",
            "3  Golden Globe      44\n",
            "4         BAFTA      19\n"
          ],
          "name": "stdout"
        }
      ]
    },
    {
      "cell_type": "markdown",
      "metadata": {
        "id": "r4e9WiTqN5SN",
        "colab_type": "text"
      },
      "source": [
        "2.3.2 Genre feature"
      ]
    },
    {
      "cell_type": "markdown",
      "metadata": {
        "id": "OniXY-5QPBYX",
        "colab_type": "text"
      },
      "source": [
        "There are some comma separated values in 'genre' column, split the column value and apply one hot encoding"
      ]
    },
    {
      "cell_type": "code",
      "metadata": {
        "id": "XxqOp8xrPUCe",
        "colab_type": "code",
        "outputId": "0611f970-5628-4b94-a2fa-fa4d397f2355",
        "colab": {
          "base_uri": "https://localhost:8080/",
          "height": 418
        }
      },
      "source": [
        "# convert genres variable into dummy/indicator variables\n",
        "d_genre = tv_df['genres'].str.get_dummies(sep=',').rename(columns=lambda x: 'Genres_' + str(x))\n",
        "# calculate the sum \n",
        "d_genre_sum = d_genre.sum()\n",
        "# plot the genre dummy sum\n",
        "d_genre_sum.sort_values(ascending = False).plot.bar()\n"
      ],
      "execution_count": 0,
      "outputs": [
        {
          "output_type": "execute_result",
          "data": {
            "text/plain": [
              "<matplotlib.axes._subplots.AxesSubplot at 0x7f4613613748>"
            ]
          },
          "metadata": {
            "tags": []
          },
          "execution_count": 16
        },
        {
          "output_type": "display_data",
          "data": {
            "image/png": "[encoded data removed]",
            "text/plain": [
              "<Figure size 432x288 with 1 Axes>"
            ]
          },
          "metadata": {
            "tags": []
          }
        }
      ]
    },
    {
      "cell_type": "markdown",
      "metadata": {
        "id": "7ChWy7LkRv94",
        "colab_type": "text"
      },
      "source": [
        "From the bar plot, we notice that there are some features with extremely low frequencies including genres_anime, reality, lifestyle, adult, LGBT and holiday. We can group those \"rare features\" together. "
      ]
    },
    {
      "cell_type": "markdown",
      "metadata": {
        "id": "T9rbl7qLSZf4",
        "colab_type": "text"
      },
      "source": [
        "2.3.3 Release_year feature"
      ]
    },
    {
      "cell_type": "code",
      "metadata": {
        "id": "1FLWVbxXTKL9",
        "colab_type": "code",
        "outputId": "5e9b309f-71af-4c6e-fac7-0e9fbf185944",
        "colab": {
          "base_uri": "https://localhost:8080/",
          "height": 556
        }
      },
      "source": [
        "# plot release_year histogram\n",
        "plt.hist(tv_df['release_year'].values, bins=40, range=(1916,2017), density=True, label = 'release_year')\n",
        "plt.legend(loc='upper left')\n",
        "plt.title('Histogram of release_year before processing')\n",
        "plt.xlabel('release_year')\n",
        "plt.ylabel('density')\n",
        "plt.show()\n",
        "\n",
        "# divide release_year into 10 percentiles\n",
        "print(tv_df['release_year'].describe(percentiles=[.1,.2,.3,.4,.5,.6,.7,.8,.9]))"
      ],
      "execution_count": 0,
      "outputs": [
        {
          "output_type": "display_data",
          "data": {
            "image/png": "[encoded data removed]",
            "text/plain": [
              "<Figure size 432x288 with 1 Axes>"
            ]
          },
          "metadata": {
            "tags": []
          }
        },
        {
          "output_type": "stream",
          "text": [
            "count    4226.000000\n",
            "mean     2001.056791\n",
            "std        17.496849\n",
            "min      1916.000000\n",
            "10%      1974.000000\n",
            "20%      1991.000000\n",
            "30%      2001.000000\n",
            "40%      2006.000000\n",
            "50%      2008.000000\n",
            "60%      2010.000000\n",
            "70%      2012.000000\n",
            "80%      2013.000000\n",
            "90%      2014.000000\n",
            "max      2017.000000\n",
            "Name: release_year, dtype: float64\n"
          ],
          "name": "stdout"
        }
      ]
    },
    {
      "cell_type": "markdown",
      "metadata": {
        "id": "SqufrcdyjE-E",
        "colab_type": "text"
      },
      "source": [
        "# **3. Feature Preprocessing**"
      ]
    },
    {
      "cell_type": "markdown",
      "metadata": {
        "id": "FmjHxhVah2yr",
        "colab_type": "text"
      },
      "source": [
        "**3.1 Categorial features**"
      ]
    },
    {
      "cell_type": "markdown",
      "metadata": {
        "id": "6nRcgPf3h51B",
        "colab_type": "text"
      },
      "source": [
        "In the tv dataset, there are 5 categorical viriables: release_year, genres, import_id, mpaa and awards.\n",
        "We can easily convert import_id, mpaa and awards into dummy features.\n",
        "For genre feature, we need to group 6 'rare features' at first.\n",
        "For release_year feature, we need to bin it into 10 buckets."
      ]
    },
    {
      "cell_type": "code",
      "metadata": {
        "id": "z-cyIoXyiiYl",
        "colab_type": "code",
        "colab": {}
      },
      "source": [
        "# convert import_id, mpaa and awards into dummy features\n",
        "d_import_id = pd.get_dummies(tv_df['import_id'], dtype=np.int64).rename(columns=lambda x: 'import_id_' + str(x))\n",
        "d_mpaa = pd.get_dummies(tv_df['mpaa'], dtype=np.int64).rename(columns=lambda x: 'mpaa_' + str(x))\n",
        "d_awards = pd.get_dummies(tv_df['awards'], dtype=np.int64).rename(columns=lambda x: 'awards_' + str(x))"
      ],
      "execution_count": 0,
      "outputs": []
    },
    {
      "cell_type": "code",
      "metadata": {
        "id": "Uo8wvTpbkR_q",
        "colab_type": "code",
        "outputId": "c89e68bd-b0ef-440c-df80-4eb59d6c5fcf",
        "colab": {
          "base_uri": "https://localhost:8080/",
          "height": 239
        }
      },
      "source": [
        "# combine 6 genre 'rare features' into a new feature 'Genres_comb', then drop those 6 genres\n",
        "d_genre['Genres_comb'] = d_genre['Genres_Anime']|d_genre['Genres_Reality']|d_genre['Genres_Lifestyle']|d_genre['Genres_Adult']|d_genre['Genres_LGBT']|d_genre['Genres_Holiday']\n",
        "d_genre.drop(['Genres_Anime','Genres_Reality','Genres_Lifestyle','Genres_Adult','Genres_LGBT','Genres_Holiday'], axis =1, inplace=True)\n",
        "d_genre.head()"
      ],
      "execution_count": 0,
      "outputs": [
        {
          "output_type": "execute_result",
          "data": {
            "text/html": [
              "<div>\n",
              "<style scoped>\n",
              "    .dataframe tbody tr th:only-of-type {\n",
              "        vertical-align: middle;\n",
              "    }\n",
              "\n",
              "    .dataframe tbody tr th {\n",
              "        vertical-align: top;\n",
              "    }\n",
              "\n",
              "    .dataframe thead th {\n",
              "        text-align: right;\n",
              "    }\n",
              "</style>\n",
              "<table border=\"1\" class=\"dataframe\">\n",
              "  <thead>\n",
              "    <tr style=\"text-align: right;\">\n",
              "      <th></th>\n",
              "      <th>Genres_Action</th>\n",
              "      <th>Genres_Adventure</th>\n",
              "      <th>Genres_Animation</th>\n",
              "      <th>Genres_Comedy</th>\n",
              "      <th>Genres_Crime</th>\n",
              "      <th>Genres_Documentary</th>\n",
              "      <th>Genres_Drama</th>\n",
              "      <th>Genres_Fantasy</th>\n",
              "      <th>Genres_Foreign/International</th>\n",
              "      <th>Genres_Horror</th>\n",
              "      <th>Genres_Independent</th>\n",
              "      <th>Genres_Kids &amp; Family</th>\n",
              "      <th>Genres_Music</th>\n",
              "      <th>Genres_Musicals</th>\n",
              "      <th>Genres_Mystery</th>\n",
              "      <th>Genres_Romance</th>\n",
              "      <th>Genres_Sci-Fi</th>\n",
              "      <th>Genres_Sport</th>\n",
              "      <th>Genres_Thriller</th>\n",
              "      <th>Genres_War</th>\n",
              "      <th>Genres_Western</th>\n",
              "      <th>Genres_comb</th>\n",
              "    </tr>\n",
              "  </thead>\n",
              "  <tbody>\n",
              "    <tr>\n",
              "      <th>0</th>\n",
              "      <td>1</td>\n",
              "      <td>0</td>\n",
              "      <td>0</td>\n",
              "      <td>0</td>\n",
              "      <td>0</td>\n",
              "      <td>0</td>\n",
              "      <td>1</td>\n",
              "      <td>0</td>\n",
              "      <td>0</td>\n",
              "      <td>0</td>\n",
              "      <td>0</td>\n",
              "      <td>0</td>\n",
              "      <td>0</td>\n",
              "      <td>0</td>\n",
              "      <td>0</td>\n",
              "      <td>0</td>\n",
              "      <td>0</td>\n",
              "      <td>0</td>\n",
              "      <td>1</td>\n",
              "      <td>0</td>\n",
              "      <td>0</td>\n",
              "      <td>0</td>\n",
              "    </tr>\n",
              "    <tr>\n",
              "      <th>1</th>\n",
              "      <td>0</td>\n",
              "      <td>0</td>\n",
              "      <td>0</td>\n",
              "      <td>1</td>\n",
              "      <td>1</td>\n",
              "      <td>0</td>\n",
              "      <td>0</td>\n",
              "      <td>0</td>\n",
              "      <td>0</td>\n",
              "      <td>0</td>\n",
              "      <td>0</td>\n",
              "      <td>0</td>\n",
              "      <td>0</td>\n",
              "      <td>0</td>\n",
              "      <td>0</td>\n",
              "      <td>0</td>\n",
              "      <td>0</td>\n",
              "      <td>0</td>\n",
              "      <td>1</td>\n",
              "      <td>0</td>\n",
              "      <td>0</td>\n",
              "      <td>0</td>\n",
              "    </tr>\n",
              "    <tr>\n",
              "      <th>2</th>\n",
              "      <td>0</td>\n",
              "      <td>0</td>\n",
              "      <td>0</td>\n",
              "      <td>0</td>\n",
              "      <td>1</td>\n",
              "      <td>0</td>\n",
              "      <td>1</td>\n",
              "      <td>0</td>\n",
              "      <td>0</td>\n",
              "      <td>0</td>\n",
              "      <td>0</td>\n",
              "      <td>0</td>\n",
              "      <td>0</td>\n",
              "      <td>0</td>\n",
              "      <td>0</td>\n",
              "      <td>0</td>\n",
              "      <td>0</td>\n",
              "      <td>0</td>\n",
              "      <td>0</td>\n",
              "      <td>0</td>\n",
              "      <td>0</td>\n",
              "      <td>0</td>\n",
              "    </tr>\n",
              "    <tr>\n",
              "      <th>3</th>\n",
              "      <td>1</td>\n",
              "      <td>0</td>\n",
              "      <td>0</td>\n",
              "      <td>0</td>\n",
              "      <td>0</td>\n",
              "      <td>1</td>\n",
              "      <td>1</td>\n",
              "      <td>0</td>\n",
              "      <td>0</td>\n",
              "      <td>0</td>\n",
              "      <td>0</td>\n",
              "      <td>0</td>\n",
              "      <td>0</td>\n",
              "      <td>0</td>\n",
              "      <td>1</td>\n",
              "      <td>0</td>\n",
              "      <td>0</td>\n",
              "      <td>0</td>\n",
              "      <td>1</td>\n",
              "      <td>1</td>\n",
              "      <td>0</td>\n",
              "      <td>0</td>\n",
              "    </tr>\n",
              "    <tr>\n",
              "      <th>4</th>\n",
              "      <td>0</td>\n",
              "      <td>0</td>\n",
              "      <td>0</td>\n",
              "      <td>0</td>\n",
              "      <td>1</td>\n",
              "      <td>1</td>\n",
              "      <td>0</td>\n",
              "      <td>0</td>\n",
              "      <td>0</td>\n",
              "      <td>0</td>\n",
              "      <td>0</td>\n",
              "      <td>0</td>\n",
              "      <td>0</td>\n",
              "      <td>0</td>\n",
              "      <td>1</td>\n",
              "      <td>0</td>\n",
              "      <td>0</td>\n",
              "      <td>0</td>\n",
              "      <td>1</td>\n",
              "      <td>0</td>\n",
              "      <td>0</td>\n",
              "      <td>0</td>\n",
              "    </tr>\n",
              "  </tbody>\n",
              "</table>\n",
              "</div>"
            ],
            "text/plain": [
              "   Genres_Action  Genres_Adventure  ...  Genres_Western  Genres_comb\n",
              "0              1                 0  ...               0            0\n",
              "1              0                 0  ...               0            0\n",
              "2              0                 0  ...               0            0\n",
              "3              1                 0  ...               0            0\n",
              "4              0                 0  ...               0            0\n",
              "\n",
              "[5 rows x 22 columns]"
            ]
          },
          "metadata": {
            "tags": []
          },
          "execution_count": 19
        }
      ]
    },
    {
      "cell_type": "code",
      "metadata": {
        "id": "66KapEv0nqc5",
        "colab_type": "code",
        "colab": {}
      },
      "source": [
        "# Bin 'release_year' into 10 groups of year range\n",
        "bins_year = [1916,1974,1991,2001,2006,2008,2010,2012,2013,2014,2017]\n",
        "labels_year = ['1916-1974', '1974-1991', '1991-2001','2001-2006','2006-2008', '2008-2010', '2010-2012', '2012-2013', '2013-2014', '2014-2017']\n",
        "year_bins = pd.cut(tv_df['release_year'], bins_year, labels = labels_year)\n",
        "# convert year range into dummy variables\n",
        "d_release_year = pd.get_dummies(year_bins, dtype=np.int64).rename(columns=lambda x: 'release_' + str(x))\n"
      ],
      "execution_count": 0,
      "outputs": []
    },
    {
      "cell_type": "code",
      "metadata": {
        "id": "vGtDI-fkrm6U",
        "colab_type": "code",
        "outputId": "8394c82d-49c1-4708-f384-cd98aa654b4d",
        "colab": {
          "base_uri": "https://localhost:8080/",
          "height": 190
        }
      },
      "source": [
        "# concatenate dummy variables with tv_df and drop the categorical features\n",
        "tv_df_drop = tv_df.drop(['import_id','mpaa','awards','genres','release_year'], axis =1)\n",
        "d_tv_df = pd.concat([tv_df_drop, d_import_id, d_mpaa, d_awards, d_genre, d_release_year], axis =1)\n",
        "print(d_tv_df.shape)\n",
        "# find whether there's any null value in the new tv_df\n",
        "# any(1): 1 means column\n",
        "# to_numpy().nonzero() is used to find the indices of an array, where a condition is True\n",
        "print (pd.isnull(d_tv_df).any(1).to_numpy().nonzero())\n",
        "print (d_tv_df.head())"
      ],
      "execution_count": 0,
      "outputs": [
        {
          "output_type": "stream",
          "text": [
            "(4226, 58)\n",
            "(array([], dtype=int64),)\n",
            "   video_id    cvt_per_day  ...  release_2013-2014  release_2014-2017\n",
            "0    385504  307127.605608  ...                  0                  0\n",
            "1    300175  270338.426375  ...                  0                  0\n",
            "2    361899  256165.867446  ...                  0                  0\n",
            "3    308314  196622.720996  ...                  0                  0\n",
            "4    307201  159841.652064  ...                  0                  0\n",
            "\n",
            "[5 rows x 58 columns]\n"
          ],
          "name": "stdout"
        }
      ]
    },
    {
      "cell_type": "markdown",
      "metadata": {
        "id": "1FN_BJipFIVc",
        "colab_type": "text"
      },
      "source": [
        "**3.2 Handling Missing Values**"
      ]
    },
    {
      "cell_type": "markdown",
      "metadata": {
        "id": "VTQYhEbm176O",
        "colab_type": "text"
      },
      "source": [
        "From our analysis on numeric features, we found that 6 numeric features have 0 values. 4 features have over 25% of 0 values: budge, boxoffice, matacritic_score and star_category. 'boxoffice' even has 75% of 0 values. 2 features have over 10% of 0 values: imdb_votes and imdb_rating. "
      ]
    },
    {
      "cell_type": "code",
      "metadata": {
        "id": "XoK-WjKCwiYx",
        "colab_type": "code",
        "outputId": "b813ab63-daec-46da-cd06-850186f6b867",
        "colab": {
          "base_uri": "https://localhost:8080/",
          "height": 1000
        }
      },
      "source": [
        "# mark all of the missing value as NaN and count the NaN values in each column\n",
        "d_tv_df[[\"imdb_votes\",\"budget\",\"boxoffice\",\"imdb_rating\",\"metacritic_score\",\"star_category\"]] = d_tv_df[[\"imdb_votes\",\"budget\",\"boxoffice\",\"imdb_rating\",\"metacritic_score\",\"star_category\"]].replace(0,np.NaN)\n",
        "print(d_tv_df.isnull().sum())\n",
        "\n",
        "# count the number of videos which have at least one NaN value\n",
        "print ( d_tv_df.isnull().any(1).sum(),'videos have at least one NaN value')"
      ],
      "execution_count": 0,
      "outputs": [
        {
          "output_type": "stream",
          "text": [
            "video_id                            0\n",
            "cvt_per_day                         0\n",
            "weighted_categorical_position       0\n",
            "weighted_horizontal_poition         0\n",
            "imdb_votes                        344\n",
            "budget                           2454\n",
            "boxoffice                        3194\n",
            "imdb_rating                       344\n",
            "duration_in_mins                    0\n",
            "metacritic_score                 3012\n",
            "star_category                    1846\n",
            "import_id_lionsgate                 0\n",
            "import_id_mgm                       0\n",
            "import_id_other                     0\n",
            "import_id_paramount                 0\n",
            "mpaa_G                              0\n",
            "mpaa_NC-17                          0\n",
            "mpaa_NotRated                       0\n",
            "mpaa_PG                             0\n",
            "mpaa_PG-13                          0\n",
            "mpaa_R                              0\n",
            "awards_BAFTA                        0\n",
            "awards_Golden Globe                 0\n",
            "awards_Oscar                        0\n",
            "awards_no award                     0\n",
            "awards_other award                  0\n",
            "Genres_Action                       0\n",
            "Genres_Adventure                    0\n",
            "Genres_Animation                    0\n",
            "Genres_Comedy                       0\n",
            "Genres_Crime                        0\n",
            "Genres_Documentary                  0\n",
            "Genres_Drama                        0\n",
            "Genres_Fantasy                      0\n",
            "Genres_Foreign/International        0\n",
            "Genres_Horror                       0\n",
            "Genres_Independent                  0\n",
            "Genres_Kids & Family                0\n",
            "Genres_Music                        0\n",
            "Genres_Musicals                     0\n",
            "Genres_Mystery                      0\n",
            "Genres_Romance                      0\n",
            "Genres_Sci-Fi                       0\n",
            "Genres_Sport                        0\n",
            "Genres_Thriller                     0\n",
            "Genres_War                          0\n",
            "Genres_Western                      0\n",
            "Genres_comb                         0\n",
            "release_1916-1974                   0\n",
            "release_1974-1991                   0\n",
            "release_1991-2001                   0\n",
            "release_2001-2006                   0\n",
            "release_2006-2008                   0\n",
            "release_2008-2010                   0\n",
            "release_2010-2012                   0\n",
            "release_2012-2013                   0\n",
            "release_2013-2014                   0\n",
            "release_2014-2017                   0\n",
            "dtype: int64\n",
            "3242 videos have at least one NaN value\n"
          ],
          "name": "stdout"
        }
      ]
    },
    {
      "cell_type": "markdown",
      "metadata": {
        "id": "moZD3SZm32Rw",
        "colab_type": "text"
      },
      "source": [
        "3.2.1 Fill missing values with mean"
      ]
    },
    {
      "cell_type": "code",
      "metadata": {
        "id": "uTTRgmrsEy6g",
        "colab_type": "code",
        "outputId": "0fc5a6e4-222b-4c6f-d4d2-2202e5cdf65e",
        "colab": {
          "base_uri": "https://localhost:8080/",
          "height": 1000
        }
      },
      "source": [
        "fm_tv_df = d_tv_df.copy()\n",
        "# fill missing values with mean column values\n",
        "fm_tv_df['imdb_votes'].fillna(fm_tv_df['imdb_votes'].mean(), inplace=True)\n",
        "fm_tv_df['budget'].fillna(fm_tv_df['budget'].mean(), inplace=True)\n",
        "fm_tv_df['boxoffice'].fillna(fm_tv_df['boxoffice'].mean(), inplace=True)\n",
        "fm_tv_df['imdb_rating'].fillna(fm_tv_df['imdb_rating'].mean(), inplace=True)\n",
        "fm_tv_df['metacritic_score'].fillna(fm_tv_df['metacritic_score'].mean(), inplace=True)\n",
        "fm_tv_df['star_category'].fillna(fm_tv_df['star_category'].mean(), inplace=True)\n",
        "# count the number of NaN values in each column\n",
        "print(fm_tv_df.isnull().sum())"
      ],
      "execution_count": 0,
      "outputs": [
        {
          "output_type": "stream",
          "text": [
            "video_id                         0\n",
            "cvt_per_day                      0\n",
            "weighted_categorical_position    0\n",
            "weighted_horizontal_poition      0\n",
            "imdb_votes                       0\n",
            "budget                           0\n",
            "boxoffice                        0\n",
            "imdb_rating                      0\n",
            "duration_in_mins                 0\n",
            "metacritic_score                 0\n",
            "star_category                    0\n",
            "import_id_lionsgate              0\n",
            "import_id_mgm                    0\n",
            "import_id_other                  0\n",
            "import_id_paramount              0\n",
            "mpaa_G                           0\n",
            "mpaa_NC-17                       0\n",
            "mpaa_NotRated                    0\n",
            "mpaa_PG                          0\n",
            "mpaa_PG-13                       0\n",
            "mpaa_R                           0\n",
            "awards_BAFTA                     0\n",
            "awards_Golden Globe              0\n",
            "awards_Oscar                     0\n",
            "awards_no award                  0\n",
            "awards_other award               0\n",
            "Genres_Action                    0\n",
            "Genres_Adventure                 0\n",
            "Genres_Animation                 0\n",
            "Genres_Comedy                    0\n",
            "Genres_Crime                     0\n",
            "Genres_Documentary               0\n",
            "Genres_Drama                     0\n",
            "Genres_Fantasy                   0\n",
            "Genres_Foreign/International     0\n",
            "Genres_Horror                    0\n",
            "Genres_Independent               0\n",
            "Genres_Kids & Family             0\n",
            "Genres_Music                     0\n",
            "Genres_Musicals                  0\n",
            "Genres_Mystery                   0\n",
            "Genres_Romance                   0\n",
            "Genres_Sci-Fi                    0\n",
            "Genres_Sport                     0\n",
            "Genres_Thriller                  0\n",
            "Genres_War                       0\n",
            "Genres_Western                   0\n",
            "Genres_comb                      0\n",
            "release_1916-1974                0\n",
            "release_1974-1991                0\n",
            "release_1991-2001                0\n",
            "release_2001-2006                0\n",
            "release_2006-2008                0\n",
            "release_2008-2010                0\n",
            "release_2010-2012                0\n",
            "release_2012-2013                0\n",
            "release_2013-2014                0\n",
            "release_2014-2017                0\n",
            "dtype: int64\n"
          ],
          "name": "stdout"
        }
      ]
    },
    {
      "cell_type": "markdown",
      "metadata": {
        "id": "tWVxxb61IUqq",
        "colab_type": "text"
      },
      "source": [
        "**3.3 Feature Scaling**"
      ]
    },
    {
      "cell_type": "markdown",
      "metadata": {
        "id": "VLFhjLkEIdSh",
        "colab_type": "text"
      },
      "source": [
        "We scale features because features highly vary in different magnitudes. Here are two ways to scale all features: 1. standardization 2. min-max scaling. We use standardization here."
      ]
    },
    {
      "cell_type": "code",
      "metadata": {
        "id": "FUDZGG4czl_Z",
        "colab_type": "code",
        "outputId": "45bed4a7-e225-4a79-bbd0-f77b4e3868ec",
        "colab": {
          "base_uri": "https://localhost:8080/",
          "height": 239
        }
      },
      "source": [
        "# standardization\n",
        "# store all numeric features\n",
        "scale_lst = ['weighted_categorical_position','weighted_horizontal_poition', 'imdb_votes'\n",
        "                ,'budget','boxoffice','imdb_rating','duration_in_mins','metacritic_score','star_category']\n",
        "sc_tv_df = fm_tv_df.copy()\n",
        "from sklearn.preprocessing import StandardScaler\n",
        "scaler = StandardScaler()\n",
        "# compute the mean and std to be used for later scaling\n",
        "sc_temp = scaler.fit(sc_tv_df[scale_lst])\n",
        "# perform standardization by centering and scaling\n",
        "sc_tv_df[scale_lst]=sc_temp.transform(sc_tv_df[scale_lst])\n",
        "sc_tv_df.head()\n"
      ],
      "execution_count": 0,
      "outputs": [
        {
          "output_type": "execute_result",
          "data": {
            "text/html": [
              "<div>\n",
              "<style scoped>\n",
              "    .dataframe tbody tr th:only-of-type {\n",
              "        vertical-align: middle;\n",
              "    }\n",
              "\n",
              "    .dataframe tbody tr th {\n",
              "        vertical-align: top;\n",
              "    }\n",
              "\n",
              "    .dataframe thead th {\n",
              "        text-align: right;\n",
              "    }\n",
              "</style>\n",
              "<table border=\"1\" class=\"dataframe\">\n",
              "  <thead>\n",
              "    <tr style=\"text-align: right;\">\n",
              "      <th></th>\n",
              "      <th>video_id</th>\n",
              "      <th>cvt_per_day</th>\n",
              "      <th>weighted_categorical_position</th>\n",
              "      <th>weighted_horizontal_poition</th>\n",
              "      <th>imdb_votes</th>\n",
              "      <th>budget</th>\n",
              "      <th>boxoffice</th>\n",
              "      <th>imdb_rating</th>\n",
              "      <th>duration_in_mins</th>\n",
              "      <th>metacritic_score</th>\n",
              "      <th>star_category</th>\n",
              "      <th>import_id_lionsgate</th>\n",
              "      <th>import_id_mgm</th>\n",
              "      <th>import_id_other</th>\n",
              "      <th>import_id_paramount</th>\n",
              "      <th>mpaa_G</th>\n",
              "      <th>mpaa_NC-17</th>\n",
              "      <th>mpaa_NotRated</th>\n",
              "      <th>mpaa_PG</th>\n",
              "      <th>mpaa_PG-13</th>\n",
              "      <th>mpaa_R</th>\n",
              "      <th>awards_BAFTA</th>\n",
              "      <th>awards_Golden Globe</th>\n",
              "      <th>awards_Oscar</th>\n",
              "      <th>awards_no award</th>\n",
              "      <th>awards_other award</th>\n",
              "      <th>Genres_Action</th>\n",
              "      <th>Genres_Adventure</th>\n",
              "      <th>Genres_Animation</th>\n",
              "      <th>Genres_Comedy</th>\n",
              "      <th>Genres_Crime</th>\n",
              "      <th>Genres_Documentary</th>\n",
              "      <th>Genres_Drama</th>\n",
              "      <th>Genres_Fantasy</th>\n",
              "      <th>Genres_Foreign/International</th>\n",
              "      <th>Genres_Horror</th>\n",
              "      <th>Genres_Independent</th>\n",
              "      <th>Genres_Kids &amp; Family</th>\n",
              "      <th>Genres_Music</th>\n",
              "      <th>Genres_Musicals</th>\n",
              "      <th>Genres_Mystery</th>\n",
              "      <th>Genres_Romance</th>\n",
              "      <th>Genres_Sci-Fi</th>\n",
              "      <th>Genres_Sport</th>\n",
              "      <th>Genres_Thriller</th>\n",
              "      <th>Genres_War</th>\n",
              "      <th>Genres_Western</th>\n",
              "      <th>Genres_comb</th>\n",
              "      <th>release_1916-1974</th>\n",
              "      <th>release_1974-1991</th>\n",
              "      <th>release_1991-2001</th>\n",
              "      <th>release_2001-2006</th>\n",
              "      <th>release_2006-2008</th>\n",
              "      <th>release_2008-2010</th>\n",
              "      <th>release_2010-2012</th>\n",
              "      <th>release_2012-2013</th>\n",
              "      <th>release_2013-2014</th>\n",
              "      <th>release_2014-2017</th>\n",
              "    </tr>\n",
              "  </thead>\n",
              "  <tbody>\n",
              "    <tr>\n",
              "      <th>0</th>\n",
              "      <td>385504</td>\n",
              "      <td>307127.605608</td>\n",
              "      <td>-1.105826</td>\n",
              "      <td>-2.116264</td>\n",
              "      <td>1.984496</td>\n",
              "      <td>1.470049</td>\n",
              "      <td>4.695913</td>\n",
              "      <td>0.541892</td>\n",
              "      <td>1.078791</td>\n",
              "      <td>-0.629733</td>\n",
              "      <td>0.032892</td>\n",
              "      <td>1</td>\n",
              "      <td>0</td>\n",
              "      <td>0</td>\n",
              "      <td>0</td>\n",
              "      <td>0</td>\n",
              "      <td>0</td>\n",
              "      <td>0</td>\n",
              "      <td>0</td>\n",
              "      <td>1</td>\n",
              "      <td>0</td>\n",
              "      <td>0</td>\n",
              "      <td>0</td>\n",
              "      <td>0</td>\n",
              "      <td>0</td>\n",
              "      <td>1</td>\n",
              "      <td>1</td>\n",
              "      <td>0</td>\n",
              "      <td>0</td>\n",
              "      <td>0</td>\n",
              "      <td>0</td>\n",
              "      <td>0</td>\n",
              "      <td>1</td>\n",
              "      <td>0</td>\n",
              "      <td>0</td>\n",
              "      <td>0</td>\n",
              "      <td>0</td>\n",
              "      <td>0</td>\n",
              "      <td>0</td>\n",
              "      <td>0</td>\n",
              "      <td>0</td>\n",
              "      <td>0</td>\n",
              "      <td>0</td>\n",
              "      <td>0</td>\n",
              "      <td>1</td>\n",
              "      <td>0</td>\n",
              "      <td>0</td>\n",
              "      <td>0</td>\n",
              "      <td>0</td>\n",
              "      <td>0</td>\n",
              "      <td>0</td>\n",
              "      <td>0</td>\n",
              "      <td>0</td>\n",
              "      <td>0</td>\n",
              "      <td>0</td>\n",
              "      <td>1</td>\n",
              "      <td>0</td>\n",
              "      <td>0</td>\n",
              "    </tr>\n",
              "    <tr>\n",
              "      <th>1</th>\n",
              "      <td>300175</td>\n",
              "      <td>270338.426375</td>\n",
              "      <td>-1.105826</td>\n",
              "      <td>-2.116264</td>\n",
              "      <td>1.258002</td>\n",
              "      <td>1.470049</td>\n",
              "      <td>-1.022340</td>\n",
              "      <td>0.541892</td>\n",
              "      <td>0.257409</td>\n",
              "      <td>-1.997101</td>\n",
              "      <td>3.434028</td>\n",
              "      <td>1</td>\n",
              "      <td>0</td>\n",
              "      <td>0</td>\n",
              "      <td>0</td>\n",
              "      <td>0</td>\n",
              "      <td>0</td>\n",
              "      <td>0</td>\n",
              "      <td>0</td>\n",
              "      <td>0</td>\n",
              "      <td>1</td>\n",
              "      <td>0</td>\n",
              "      <td>0</td>\n",
              "      <td>0</td>\n",
              "      <td>1</td>\n",
              "      <td>0</td>\n",
              "      <td>0</td>\n",
              "      <td>0</td>\n",
              "      <td>0</td>\n",
              "      <td>1</td>\n",
              "      <td>1</td>\n",
              "      <td>0</td>\n",
              "      <td>0</td>\n",
              "      <td>0</td>\n",
              "      <td>0</td>\n",
              "      <td>0</td>\n",
              "      <td>0</td>\n",
              "      <td>0</td>\n",
              "      <td>0</td>\n",
              "      <td>0</td>\n",
              "      <td>0</td>\n",
              "      <td>0</td>\n",
              "      <td>0</td>\n",
              "      <td>0</td>\n",
              "      <td>1</td>\n",
              "      <td>0</td>\n",
              "      <td>0</td>\n",
              "      <td>0</td>\n",
              "      <td>0</td>\n",
              "      <td>0</td>\n",
              "      <td>0</td>\n",
              "      <td>0</td>\n",
              "      <td>0</td>\n",
              "      <td>0</td>\n",
              "      <td>0</td>\n",
              "      <td>1</td>\n",
              "      <td>0</td>\n",
              "      <td>0</td>\n",
              "    </tr>\n",
              "    <tr>\n",
              "      <th>2</th>\n",
              "      <td>361899</td>\n",
              "      <td>256165.867446</td>\n",
              "      <td>-1.105826</td>\n",
              "      <td>-2.116264</td>\n",
              "      <td>6.043083</td>\n",
              "      <td>3.108277</td>\n",
              "      <td>3.897514</td>\n",
              "      <td>1.099791</td>\n",
              "      <td>1.243025</td>\n",
              "      <td>0.327425</td>\n",
              "      <td>2.101548</td>\n",
              "      <td>0</td>\n",
              "      <td>0</td>\n",
              "      <td>1</td>\n",
              "      <td>0</td>\n",
              "      <td>0</td>\n",
              "      <td>0</td>\n",
              "      <td>0</td>\n",
              "      <td>0</td>\n",
              "      <td>0</td>\n",
              "      <td>1</td>\n",
              "      <td>0</td>\n",
              "      <td>0</td>\n",
              "      <td>0</td>\n",
              "      <td>0</td>\n",
              "      <td>1</td>\n",
              "      <td>0</td>\n",
              "      <td>0</td>\n",
              "      <td>0</td>\n",
              "      <td>0</td>\n",
              "      <td>1</td>\n",
              "      <td>0</td>\n",
              "      <td>1</td>\n",
              "      <td>0</td>\n",
              "      <td>0</td>\n",
              "      <td>0</td>\n",
              "      <td>0</td>\n",
              "      <td>0</td>\n",
              "      <td>0</td>\n",
              "      <td>0</td>\n",
              "      <td>0</td>\n",
              "      <td>0</td>\n",
              "      <td>0</td>\n",
              "      <td>0</td>\n",
              "      <td>0</td>\n",
              "      <td>0</td>\n",
              "      <td>0</td>\n",
              "      <td>0</td>\n",
              "      <td>0</td>\n",
              "      <td>0</td>\n",
              "      <td>0</td>\n",
              "      <td>0</td>\n",
              "      <td>0</td>\n",
              "      <td>0</td>\n",
              "      <td>1</td>\n",
              "      <td>0</td>\n",
              "      <td>0</td>\n",
              "      <td>0</td>\n",
              "    </tr>\n",
              "    <tr>\n",
              "      <th>3</th>\n",
              "      <td>308314</td>\n",
              "      <td>196622.720996</td>\n",
              "      <td>-0.779746</td>\n",
              "      <td>-2.031963</td>\n",
              "      <td>11.077168</td>\n",
              "      <td>1.470049</td>\n",
              "      <td>0.766744</td>\n",
              "      <td>1.309003</td>\n",
              "      <td>1.951625</td>\n",
              "      <td>5.249951</td>\n",
              "      <td>-0.062811</td>\n",
              "      <td>1</td>\n",
              "      <td>0</td>\n",
              "      <td>0</td>\n",
              "      <td>0</td>\n",
              "      <td>0</td>\n",
              "      <td>0</td>\n",
              "      <td>0</td>\n",
              "      <td>0</td>\n",
              "      <td>0</td>\n",
              "      <td>1</td>\n",
              "      <td>0</td>\n",
              "      <td>0</td>\n",
              "      <td>1</td>\n",
              "      <td>0</td>\n",
              "      <td>0</td>\n",
              "      <td>1</td>\n",
              "      <td>0</td>\n",
              "      <td>0</td>\n",
              "      <td>0</td>\n",
              "      <td>0</td>\n",
              "      <td>1</td>\n",
              "      <td>1</td>\n",
              "      <td>0</td>\n",
              "      <td>0</td>\n",
              "      <td>0</td>\n",
              "      <td>0</td>\n",
              "      <td>0</td>\n",
              "      <td>0</td>\n",
              "      <td>0</td>\n",
              "      <td>1</td>\n",
              "      <td>0</td>\n",
              "      <td>0</td>\n",
              "      <td>0</td>\n",
              "      <td>1</td>\n",
              "      <td>1</td>\n",
              "      <td>0</td>\n",
              "      <td>0</td>\n",
              "      <td>0</td>\n",
              "      <td>0</td>\n",
              "      <td>0</td>\n",
              "      <td>0</td>\n",
              "      <td>1</td>\n",
              "      <td>0</td>\n",
              "      <td>0</td>\n",
              "      <td>0</td>\n",
              "      <td>0</td>\n",
              "      <td>0</td>\n",
              "    </tr>\n",
              "    <tr>\n",
              "      <th>4</th>\n",
              "      <td>307201</td>\n",
              "      <td>159841.652064</td>\n",
              "      <td>-1.105826</td>\n",
              "      <td>-2.116264</td>\n",
              "      <td>1.258478</td>\n",
              "      <td>3.289972</td>\n",
              "      <td>-0.264775</td>\n",
              "      <td>0.472155</td>\n",
              "      <td>0.758378</td>\n",
              "      <td>-2.544049</td>\n",
              "      <td>3.029131</td>\n",
              "      <td>1</td>\n",
              "      <td>0</td>\n",
              "      <td>0</td>\n",
              "      <td>0</td>\n",
              "      <td>0</td>\n",
              "      <td>0</td>\n",
              "      <td>0</td>\n",
              "      <td>0</td>\n",
              "      <td>0</td>\n",
              "      <td>1</td>\n",
              "      <td>0</td>\n",
              "      <td>0</td>\n",
              "      <td>0</td>\n",
              "      <td>0</td>\n",
              "      <td>1</td>\n",
              "      <td>0</td>\n",
              "      <td>0</td>\n",
              "      <td>0</td>\n",
              "      <td>0</td>\n",
              "      <td>1</td>\n",
              "      <td>1</td>\n",
              "      <td>0</td>\n",
              "      <td>0</td>\n",
              "      <td>0</td>\n",
              "      <td>0</td>\n",
              "      <td>0</td>\n",
              "      <td>0</td>\n",
              "      <td>0</td>\n",
              "      <td>0</td>\n",
              "      <td>1</td>\n",
              "      <td>0</td>\n",
              "      <td>0</td>\n",
              "      <td>0</td>\n",
              "      <td>1</td>\n",
              "      <td>0</td>\n",
              "      <td>0</td>\n",
              "      <td>0</td>\n",
              "      <td>0</td>\n",
              "      <td>0</td>\n",
              "      <td>0</td>\n",
              "      <td>0</td>\n",
              "      <td>0</td>\n",
              "      <td>0</td>\n",
              "      <td>0</td>\n",
              "      <td>1</td>\n",
              "      <td>0</td>\n",
              "      <td>0</td>\n",
              "    </tr>\n",
              "  </tbody>\n",
              "</table>\n",
              "</div>"
            ],
            "text/plain": [
              "   video_id    cvt_per_day  ...  release_2013-2014  release_2014-2017\n",
              "0    385504  307127.605608  ...                  0                  0\n",
              "1    300175  270338.426375  ...                  0                  0\n",
              "2    361899  256165.867446  ...                  0                  0\n",
              "3    308314  196622.720996  ...                  0                  0\n",
              "4    307201  159841.652064  ...                  0                  0\n",
              "\n",
              "[5 rows x 58 columns]"
            ]
          },
          "metadata": {
            "tags": []
          },
          "execution_count": 24
        }
      ]
    },
    {
      "cell_type": "markdown",
      "metadata": {
        "id": "7lqVwJee7p1_",
        "colab_type": "text"
      },
      "source": [
        "# **4. Model Training**"
      ]
    },
    {
      "cell_type": "markdown",
      "metadata": {
        "id": "yx6T8pac8Fy5",
        "colab_type": "text"
      },
      "source": [
        "To avoid overfitting in supervised learning, we need to train model by splitting our data into test and train dataset."
      ]
    },
    {
      "cell_type": "code",
      "metadata": {
        "id": "uAGQ9IwZCMmS",
        "colab_type": "code",
        "colab": {}
      },
      "source": [
        "# train : test = 85% : 15%\n",
        "# we set random_state = 3 to make sure everytime the result will be same,i.e, same values in train and test datasets.\n",
        "from sklearn.model_selection import train_test_split\n",
        "model_train, model_test = train_test_split(sc_tv_df, test_size = 0.15, random_state = 3) \n",
        "model_train_x = model_train.drop(['video_id','cvt_per_day'], axis =1)\n",
        "model_test_x = model_test.drop(['video_id','cvt_per_day'], axis =1)\n",
        "model_train_y = model_train['cvt_per_day']\n",
        "model_test_y = model_test['cvt_per_day']"
      ],
      "execution_count": 0,
      "outputs": []
    },
    {
      "cell_type": "markdown",
      "metadata": {
        "id": "m2kSYoYSDZBq",
        "colab_type": "text"
      },
      "source": [
        "**4.1 Linear models**"
      ]
    },
    {
      "cell_type": "markdown",
      "metadata": {
        "id": "rENriI-EDfY7",
        "colab_type": "text"
      },
      "source": [
        "4.1.1 Lasso linear regression (Linear regression is included)"
      ]
    },
    {
      "cell_type": "markdown",
      "metadata": {
        "id": "XUjb1vpY2cG8",
        "colab_type": "text"
      },
      "source": [
        "1) All features are linear"
      ]
    },
    {
      "cell_type": "code",
      "metadata": {
        "id": "tcdKMq3T2ggW",
        "colab_type": "code",
        "outputId": "e551c6c1-8689-4529-d604-4b2c206f6108",
        "colab": {
          "base_uri": "https://localhost:8080/",
          "height": 312
        }
      },
      "source": [
        "from sklearn.model_selection import train_test_split\n",
        "from sklearn import linear_model\n",
        "from sklearn.metrics import mean_squared_error, r2_score\n",
        "from math import sqrt\n",
        "# We try to find the optimal alpha in this step, in the next step we will apply it into the train / test dataset\n",
        "# split model_train dataset\n",
        "lr_model_train, lr_model_validation = train_test_split(model_train, test_size = 0.15, random_state = 0) \n",
        "lr_model_train_x = lr_model_train.drop(['video_id','cvt_per_day'], axis =1)\n",
        "lr_model_validation_x = lr_model_validation.drop(['video_id','cvt_per_day'], axis =1)\n",
        "lr_model_train_y = lr_model_train['cvt_per_day']\n",
        "lr_model_validation_y = lr_model_validation['cvt_per_day']\n",
        "\n",
        "# alpha range\n",
        "# alpha is a constant that multiplies the L1 term\n",
        "alphas = np.logspace(-0.3,3,num=150)\n",
        "# Return an array of ones with the same shape and type as given alphas array\n",
        "scores = np.empty_like(alphas)\n",
        "opt_a = float('-inf')\n",
        "max_score = float('-inf')\n",
        "# grid searching, find the optimal alpha and highest score\n",
        "for i,a in enumerate(alphas):\n",
        "  lasso = linear_model.Lasso()\n",
        "  lasso.set_params(alpha=a)\n",
        "  lasso.fit(lr_model_train_x,lr_model_train_y)\n",
        "  # the score returns the coefficient of determination R^2 (1-u/v) of the prediction.\n",
        "  # The best R^2 is 1\n",
        "  scores[i] = lasso.score(lr_model_validation_x,lr_model_validation_y)\n",
        "  if scores[i] > max_score:\n",
        "    max_score = scores[i]\n",
        "    opt_a = a\n",
        "    best_lasso = lasso\n",
        "# plot score and alpha\n",
        "plt.plot(alphas,scores,linestyle='dashed',marker='o')\n",
        "plt.xlabel('alpha')\n",
        "plt.ylabel('score')\n",
        "plt.title('score and alpha')\n",
        "plt.show()\n",
        "# alpha = 0 is equivalent to an ordinary least square, solved by the LinearRegression object.\n",
        "print('Lasso Linear Regression: The optimal alpha is ', opt_a, 'The max score is ', max_score)\n"
      ],
      "execution_count": 0,
      "outputs": [
        {
          "output_type": "display_data",
          "data": {
            "image/png": "[encoded data removed]",
            "text/plain": [
              "<Figure size 432x288 with 1 Axes>"
            ]
          },
          "metadata": {
            "tags": []
          }
        },
        {
          "output_type": "stream",
          "text": [
            "Lasso Linear Regression: The optimal alpha is  123.57946442779424 The max score is  0.3645986721973753\n"
          ],
          "name": "stdout"
        }
      ]
    },
    {
      "cell_type": "code",
      "metadata": {
        "id": "nFJ7ZRijBXby",
        "colab_type": "code",
        "outputId": "782ec9b3-9fd4-414b-f29b-a7ec5cdce899",
        "colab": {
          "base_uri": "https://localhost:8080/",
          "height": 69
        }
      },
      "source": [
        "# Apply the optimal alpha into the train / test dataset, retrain the model\n",
        "lasso_li = linear_model.Lasso()\n",
        "lasso_li.set_params(alpha = opt_a)\n",
        "lasso_li.fit(model_train_x,model_train_y)"
      ],
      "execution_count": 0,
      "outputs": [
        {
          "output_type": "execute_result",
          "data": {
            "text/plain": [
              "Lasso(alpha=123.57946442779424, copy_X=True, fit_intercept=True, max_iter=1000,\n",
              "      normalize=False, positive=False, precompute=False, random_state=None,\n",
              "      selection='cyclic', tol=0.0001, warm_start=False)"
            ]
          },
          "metadata": {
            "tags": []
          },
          "execution_count": 27
        }
      ]
    },
    {
      "cell_type": "markdown",
      "metadata": {
        "id": "4kGkHnTaSPH6",
        "colab_type": "text"
      },
      "source": [
        "2)Polynomial features \n",
        "\n",
        "\n"
      ]
    },
    {
      "cell_type": "code",
      "metadata": {
        "id": "jW3uckFbTDm_",
        "colab_type": "code",
        "outputId": "9a15ea8d-15a7-4963-d6df-80a5ddcb38a3",
        "colab": {
          "base_uri": "https://localhost:8080/",
          "height": 1000
        }
      },
      "source": [
        "from sklearn.preprocessing import PolynomialFeatures\n",
        "\n",
        "poly = PolynomialFeatures(2)\n",
        "\n",
        "lr_model_train, lr_model_validation = train_test_split(model_train, test_size = 0.15, random_state = 0) \n",
        "lr_model_train_x = lr_model_train.drop(['video_id','cvt_per_day'], axis =1)\n",
        "lr_model_validation_x = lr_model_validation.drop(['video_id','cvt_per_day'], axis =1)\n",
        "lr_model_train_y = lr_model_train['cvt_per_day']\n",
        "lr_model_validation_y = lr_model_validation['cvt_per_day']\n",
        "\n",
        "lr_model_train_xp = poly.fit_transform(lr_model_train_x)\n",
        "lr_model_validation_xp = poly.fit_transform(lr_model_validation_x)\n",
        "\n",
        "alphas = np.logspace(-1,2.8,num=100)\n",
        "scores = np.empty_like(alphas)\n",
        "opt_a = float('-inf')\n",
        "max_score = float('-inf')\n",
        "# grid searching, find the optimal alpha and highest score\n",
        "for i,a in enumerate(alphas):\n",
        "  lasso = linear_model.Lasso()\n",
        "  lasso.set_params(alpha=a)\n",
        "  lasso.fit(lr_model_train_xp,lr_model_train_y)\n",
        "  scores[i] = lasso.score(lr_model_validation_xp,lr_model_validation_y)\n",
        "  if scores[i] > max_score:\n",
        "    max_score = scores[i]\n",
        "    opt_a = a\n",
        "    best_lasso = lasso\n",
        "# plot score and alpha\n",
        "plt.plot(alphas,scores,linestyle='dashed',marker='o')\n",
        "plt.xlabel('alpha')\n",
        "plt.ylabel('score')\n",
        "plt.title('score and alpha')\n",
        "plt.show()\n",
        "# alpha = 0 is equivalent to an ordinary least square, solved by the LinearRegression object.\n",
        "print('Lasso Polynomial: The optimal alpha is ', opt_a, 'The max score is ', max_score)\n"
      ],
      "execution_count": 0,
      "outputs": [
        {
          "output_type": "stream",
          "text": [
            "/usr/local/lib/python3.6/dist-packages/sklearn/linear_model/coordinate_descent.py:475: ConvergenceWarning: Objective did not converge. You might want to increase the number of iterations. Duality gap: 34216404827.735252, tolerance: 48022560.445868425\n",
            "  positive)\n",
            "/usr/local/lib/python3.6/dist-packages/sklearn/linear_model/coordinate_descent.py:475: ConvergenceWarning: Objective did not converge. You might want to increase the number of iterations. Duality gap: 34320715202.97657, tolerance: 48022560.445868425\n",
            "  positive)\n",
            "/usr/local/lib/python3.6/dist-packages/sklearn/linear_model/coordinate_descent.py:475: ConvergenceWarning: Objective did not converge. You might want to increase the number of iterations. Duality gap: 34433821818.71084, tolerance: 48022560.445868425\n",
            "  positive)\n",
            "/usr/local/lib/python3.6/dist-packages/sklearn/linear_model/coordinate_descent.py:475: ConvergenceWarning: Objective did not converge. You might want to increase the number of iterations. Duality gap: 34555745768.66973, tolerance: 48022560.445868425\n",
            "  positive)\n",
            "/usr/local/lib/python3.6/dist-packages/sklearn/linear_model/coordinate_descent.py:475: ConvergenceWarning: Objective did not converge. You might want to increase the number of iterations. Duality gap: 34687301280.117325, tolerance: 48022560.445868425\n",
            "  positive)\n",
            "/usr/local/lib/python3.6/dist-packages/sklearn/linear_model/coordinate_descent.py:475: ConvergenceWarning: Objective did not converge. You might want to increase the number of iterations. Duality gap: 34827960685.08587, tolerance: 48022560.445868425\n",
            "  positive)\n",
            "/usr/local/lib/python3.6/dist-packages/sklearn/linear_model/coordinate_descent.py:475: ConvergenceWarning: Objective did not converge. You might want to increase the number of iterations. Duality gap: 34977807412.77452, tolerance: 48022560.445868425\n",
            "  positive)\n",
            "/usr/local/lib/python3.6/dist-packages/sklearn/linear_model/coordinate_descent.py:475: ConvergenceWarning: Objective did not converge. You might want to increase the number of iterations. Duality gap: 35134977244.89135, tolerance: 48022560.445868425\n",
            "  positive)\n",
            "/usr/local/lib/python3.6/dist-packages/sklearn/linear_model/coordinate_descent.py:475: ConvergenceWarning: Objective did not converge. You might want to increase the number of iterations. Duality gap: 35301587961.5678, tolerance: 48022560.445868425\n",
            "  positive)\n",
            "/usr/local/lib/python3.6/dist-packages/sklearn/linear_model/coordinate_descent.py:475: ConvergenceWarning: Objective did not converge. You might want to increase the number of iterations. Duality gap: 35483227176.59982, tolerance: 48022560.445868425\n",
            "  positive)\n",
            "/usr/local/lib/python3.6/dist-packages/sklearn/linear_model/coordinate_descent.py:475: ConvergenceWarning: Objective did not converge. You might want to increase the number of iterations. Duality gap: 35677304460.546844, tolerance: 48022560.445868425\n",
            "  positive)\n",
            "/usr/local/lib/python3.6/dist-packages/sklearn/linear_model/coordinate_descent.py:475: ConvergenceWarning: Objective did not converge. You might want to increase the number of iterations. Duality gap: 35881437292.57204, tolerance: 48022560.445868425\n",
            "  positive)\n",
            "/usr/local/lib/python3.6/dist-packages/sklearn/linear_model/coordinate_descent.py:475: ConvergenceWarning: Objective did not converge. You might want to increase the number of iterations. Duality gap: 36099763261.28735, tolerance: 48022560.445868425\n",
            "  positive)\n",
            "/usr/local/lib/python3.6/dist-packages/sklearn/linear_model/coordinate_descent.py:475: ConvergenceWarning: Objective did not converge. You might want to increase the number of iterations. Duality gap: 36329891856.487915, tolerance: 48022560.445868425\n",
            "  positive)\n",
            "/usr/local/lib/python3.6/dist-packages/sklearn/linear_model/coordinate_descent.py:475: ConvergenceWarning: Objective did not converge. You might want to increase the number of iterations. Duality gap: 36582456904.74495, tolerance: 48022560.445868425\n",
            "  positive)\n",
            "/usr/local/lib/python3.6/dist-packages/sklearn/linear_model/coordinate_descent.py:475: ConvergenceWarning: Objective did not converge. You might want to increase the number of iterations. Duality gap: 36833315819.64056, tolerance: 48022560.445868425\n",
            "  positive)\n",
            "/usr/local/lib/python3.6/dist-packages/sklearn/linear_model/coordinate_descent.py:475: ConvergenceWarning: Objective did not converge. You might want to increase the number of iterations. Duality gap: 37095371882.72267, tolerance: 48022560.445868425\n",
            "  positive)\n",
            "/usr/local/lib/python3.6/dist-packages/sklearn/linear_model/coordinate_descent.py:475: ConvergenceWarning: Objective did not converge. You might want to increase the number of iterations. Duality gap: 37370215392.899216, tolerance: 48022560.445868425\n",
            "  positive)\n",
            "/usr/local/lib/python3.6/dist-packages/sklearn/linear_model/coordinate_descent.py:475: ConvergenceWarning: Objective did not converge. You might want to increase the number of iterations. Duality gap: 37666861351.50366, tolerance: 48022560.445868425\n",
            "  positive)\n",
            "/usr/local/lib/python3.6/dist-packages/sklearn/linear_model/coordinate_descent.py:475: ConvergenceWarning: Objective did not converge. You might want to increase the number of iterations. Duality gap: 37962600629.41351, tolerance: 48022560.445868425\n",
            "  positive)\n",
            "/usr/local/lib/python3.6/dist-packages/sklearn/linear_model/coordinate_descent.py:475: ConvergenceWarning: Objective did not converge. You might want to increase the number of iterations. Duality gap: 38248403790.66526, tolerance: 48022560.445868425\n",
            "  positive)\n",
            "/usr/local/lib/python3.6/dist-packages/sklearn/linear_model/coordinate_descent.py:475: ConvergenceWarning: Objective did not converge. You might want to increase the number of iterations. Duality gap: 38531261417.94441, tolerance: 48022560.445868425\n",
            "  positive)\n",
            "/usr/local/lib/python3.6/dist-packages/sklearn/linear_model/coordinate_descent.py:475: ConvergenceWarning: Objective did not converge. You might want to increase the number of iterations. Duality gap: 38818710692.20151, tolerance: 48022560.445868425\n",
            "  positive)\n",
            "/usr/local/lib/python3.6/dist-packages/sklearn/linear_model/coordinate_descent.py:475: ConvergenceWarning: Objective did not converge. You might want to increase the number of iterations. Duality gap: 39009265590.228, tolerance: 48022560.445868425\n",
            "  positive)\n",
            "/usr/local/lib/python3.6/dist-packages/sklearn/linear_model/coordinate_descent.py:475: ConvergenceWarning: Objective did not converge. You might want to increase the number of iterations. Duality gap: 39139910219.395996, tolerance: 48022560.445868425\n",
            "  positive)\n",
            "/usr/local/lib/python3.6/dist-packages/sklearn/linear_model/coordinate_descent.py:475: ConvergenceWarning: Objective did not converge. You might want to increase the number of iterations. Duality gap: 39197545885.6727, tolerance: 48022560.445868425\n",
            "  positive)\n",
            "/usr/local/lib/python3.6/dist-packages/sklearn/linear_model/coordinate_descent.py:475: ConvergenceWarning: Objective did not converge. You might want to increase the number of iterations. Duality gap: 39445969539.88096, tolerance: 48022560.445868425\n",
            "  positive)\n",
            "/usr/local/lib/python3.6/dist-packages/sklearn/linear_model/coordinate_descent.py:475: ConvergenceWarning: Objective did not converge. You might want to increase the number of iterations. Duality gap: 39718601257.10281, tolerance: 48022560.445868425\n",
            "  positive)\n",
            "/usr/local/lib/python3.6/dist-packages/sklearn/linear_model/coordinate_descent.py:475: ConvergenceWarning: Objective did not converge. You might want to increase the number of iterations. Duality gap: 40915275504.16314, tolerance: 48022560.445868425\n",
            "  positive)\n",
            "/usr/local/lib/python3.6/dist-packages/sklearn/linear_model/coordinate_descent.py:475: ConvergenceWarning: Objective did not converge. You might want to increase the number of iterations. Duality gap: 41279521466.05024, tolerance: 48022560.445868425\n",
            "  positive)\n",
            "/usr/local/lib/python3.6/dist-packages/sklearn/linear_model/coordinate_descent.py:475: ConvergenceWarning: Objective did not converge. You might want to increase the number of iterations. Duality gap: 41654220773.18323, tolerance: 48022560.445868425\n",
            "  positive)\n",
            "/usr/local/lib/python3.6/dist-packages/sklearn/linear_model/coordinate_descent.py:475: ConvergenceWarning: Objective did not converge. You might want to increase the number of iterations. Duality gap: 41907074556.14292, tolerance: 48022560.445868425\n",
            "  positive)\n",
            "/usr/local/lib/python3.6/dist-packages/sklearn/linear_model/coordinate_descent.py:475: ConvergenceWarning: Objective did not converge. You might want to increase the number of iterations. Duality gap: 42290837832.58484, tolerance: 48022560.445868425\n",
            "  positive)\n",
            "/usr/local/lib/python3.6/dist-packages/sklearn/linear_model/coordinate_descent.py:475: ConvergenceWarning: Objective did not converge. You might want to increase the number of iterations. Duality gap: 42534728243.55322, tolerance: 48022560.445868425\n",
            "  positive)\n",
            "/usr/local/lib/python3.6/dist-packages/sklearn/linear_model/coordinate_descent.py:475: ConvergenceWarning: Objective did not converge. You might want to increase the number of iterations. Duality gap: 42545377208.454796, tolerance: 48022560.445868425\n",
            "  positive)\n",
            "/usr/local/lib/python3.6/dist-packages/sklearn/linear_model/coordinate_descent.py:475: ConvergenceWarning: Objective did not converge. You might want to increase the number of iterations. Duality gap: 42257634598.17913, tolerance: 48022560.445868425\n",
            "  positive)\n",
            "/usr/local/lib/python3.6/dist-packages/sklearn/linear_model/coordinate_descent.py:475: ConvergenceWarning: Objective did not converge. You might want to increase the number of iterations. Duality gap: 43676769846.15354, tolerance: 48022560.445868425\n",
            "  positive)\n",
            "/usr/local/lib/python3.6/dist-packages/sklearn/linear_model/coordinate_descent.py:475: ConvergenceWarning: Objective did not converge. You might want to increase the number of iterations. Duality gap: 45337297140.85752, tolerance: 48022560.445868425\n",
            "  positive)\n",
            "/usr/local/lib/python3.6/dist-packages/sklearn/linear_model/coordinate_descent.py:475: ConvergenceWarning: Objective did not converge. You might want to increase the number of iterations. Duality gap: 46124099466.679405, tolerance: 48022560.445868425\n",
            "  positive)\n",
            "/usr/local/lib/python3.6/dist-packages/sklearn/linear_model/coordinate_descent.py:475: ConvergenceWarning: Objective did not converge. You might want to increase the number of iterations. Duality gap: 45881384944.92184, tolerance: 48022560.445868425\n",
            "  positive)\n",
            "/usr/local/lib/python3.6/dist-packages/sklearn/linear_model/coordinate_descent.py:475: ConvergenceWarning: Objective did not converge. You might want to increase the number of iterations. Duality gap: 46320231732.7097, tolerance: 48022560.445868425\n",
            "  positive)\n",
            "/usr/local/lib/python3.6/dist-packages/sklearn/linear_model/coordinate_descent.py:475: ConvergenceWarning: Objective did not converge. You might want to increase the number of iterations. Duality gap: 48159626486.25179, tolerance: 48022560.445868425\n",
            "  positive)\n",
            "/usr/local/lib/python3.6/dist-packages/sklearn/linear_model/coordinate_descent.py:475: ConvergenceWarning: Objective did not converge. You might want to increase the number of iterations. Duality gap: 49800966084.139435, tolerance: 48022560.445868425\n",
            "  positive)\n",
            "/usr/local/lib/python3.6/dist-packages/sklearn/linear_model/coordinate_descent.py:475: ConvergenceWarning: Objective did not converge. You might want to increase the number of iterations. Duality gap: 49886777188.22649, tolerance: 48022560.445868425\n",
            "  positive)\n",
            "/usr/local/lib/python3.6/dist-packages/sklearn/linear_model/coordinate_descent.py:475: ConvergenceWarning: Objective did not converge. You might want to increase the number of iterations. Duality gap: 49107323050.775665, tolerance: 48022560.445868425\n",
            "  positive)\n",
            "/usr/local/lib/python3.6/dist-packages/sklearn/linear_model/coordinate_descent.py:475: ConvergenceWarning: Objective did not converge. You might want to increase the number of iterations. Duality gap: 47687178319.991455, tolerance: 48022560.445868425\n",
            "  positive)\n",
            "/usr/local/lib/python3.6/dist-packages/sklearn/linear_model/coordinate_descent.py:475: ConvergenceWarning: Objective did not converge. You might want to increase the number of iterations. Duality gap: 46165833969.14394, tolerance: 48022560.445868425\n",
            "  positive)\n",
            "/usr/local/lib/python3.6/dist-packages/sklearn/linear_model/coordinate_descent.py:475: ConvergenceWarning: Objective did not converge. You might want to increase the number of iterations. Duality gap: 41801427810.9525, tolerance: 48022560.445868425\n",
            "  positive)\n",
            "/usr/local/lib/python3.6/dist-packages/sklearn/linear_model/coordinate_descent.py:475: ConvergenceWarning: Objective did not converge. You might want to increase the number of iterations. Duality gap: 34594795096.427216, tolerance: 48022560.445868425\n",
            "  positive)\n",
            "/usr/local/lib/python3.6/dist-packages/sklearn/linear_model/coordinate_descent.py:475: ConvergenceWarning: Objective did not converge. You might want to increase the number of iterations. Duality gap: 26993673999.97967, tolerance: 48022560.445868425\n",
            "  positive)\n",
            "/usr/local/lib/python3.6/dist-packages/sklearn/linear_model/coordinate_descent.py:475: ConvergenceWarning: Objective did not converge. You might want to increase the number of iterations. Duality gap: 17641768784.731987, tolerance: 48022560.445868425\n",
            "  positive)\n",
            "/usr/local/lib/python3.6/dist-packages/sklearn/linear_model/coordinate_descent.py:475: ConvergenceWarning: Objective did not converge. You might want to increase the number of iterations. Duality gap: 16932285265.736359, tolerance: 48022560.445868425\n",
            "  positive)\n",
            "/usr/local/lib/python3.6/dist-packages/sklearn/linear_model/coordinate_descent.py:475: ConvergenceWarning: Objective did not converge. You might want to increase the number of iterations. Duality gap: 11261741795.547516, tolerance: 48022560.445868425\n",
            "  positive)\n",
            "/usr/local/lib/python3.6/dist-packages/sklearn/linear_model/coordinate_descent.py:475: ConvergenceWarning: Objective did not converge. You might want to increase the number of iterations. Duality gap: 5815363128.426361, tolerance: 48022560.445868425\n",
            "  positive)\n",
            "/usr/local/lib/python3.6/dist-packages/sklearn/linear_model/coordinate_descent.py:475: ConvergenceWarning: Objective did not converge. You might want to increase the number of iterations. Duality gap: 1271511602.277008, tolerance: 48022560.445868425\n",
            "  positive)\n",
            "/usr/local/lib/python3.6/dist-packages/sklearn/linear_model/coordinate_descent.py:475: ConvergenceWarning: Objective did not converge. You might want to increase the number of iterations. Duality gap: 1564423886.2141113, tolerance: 48022560.445868425\n",
            "  positive)\n",
            "/usr/local/lib/python3.6/dist-packages/sklearn/linear_model/coordinate_descent.py:475: ConvergenceWarning: Objective did not converge. You might want to increase the number of iterations. Duality gap: 1518583078.6700897, tolerance: 48022560.445868425\n",
            "  positive)\n",
            "/usr/local/lib/python3.6/dist-packages/sklearn/linear_model/coordinate_descent.py:475: ConvergenceWarning: Objective did not converge. You might want to increase the number of iterations. Duality gap: 823036547.6067657, tolerance: 48022560.445868425\n",
            "  positive)\n",
            "/usr/local/lib/python3.6/dist-packages/sklearn/linear_model/coordinate_descent.py:475: ConvergenceWarning: Objective did not converge. You might want to increase the number of iterations. Duality gap: 648358008.9929962, tolerance: 48022560.445868425\n",
            "  positive)\n",
            "/usr/local/lib/python3.6/dist-packages/sklearn/linear_model/coordinate_descent.py:475: ConvergenceWarning: Objective did not converge. You might want to increase the number of iterations. Duality gap: 481887338.8972473, tolerance: 48022560.445868425\n",
            "  positive)\n",
            "/usr/local/lib/python3.6/dist-packages/sklearn/linear_model/coordinate_descent.py:475: ConvergenceWarning: Objective did not converge. You might want to increase the number of iterations. Duality gap: 377801769.9173584, tolerance: 48022560.445868425\n",
            "  positive)\n",
            "/usr/local/lib/python3.6/dist-packages/sklearn/linear_model/coordinate_descent.py:475: ConvergenceWarning: Objective did not converge. You might want to increase the number of iterations. Duality gap: 316016182.9447632, tolerance: 48022560.445868425\n",
            "  positive)\n",
            "/usr/local/lib/python3.6/dist-packages/sklearn/linear_model/coordinate_descent.py:475: ConvergenceWarning: Objective did not converge. You might want to increase the number of iterations. Duality gap: 272659389.4526062, tolerance: 48022560.445868425\n",
            "  positive)\n",
            "/usr/local/lib/python3.6/dist-packages/sklearn/linear_model/coordinate_descent.py:475: ConvergenceWarning: Objective did not converge. You might want to increase the number of iterations. Duality gap: 136118252.0177002, tolerance: 48022560.445868425\n",
            "  positive)\n"
          ],
          "name": "stderr"
        },
        {
          "output_type": "display_data",
          "data": {
            "image/png": "[encoded data removed]",
            "text/plain": [
              "<Figure size 432x288 with 1 Axes>"
            ]
          },
          "metadata": {
            "tags": []
          }
        },
        {
          "output_type": "stream",
          "text": [
            "Lasso Polynomial: The optimal alpha is  153.41173650890957 The max score is  0.57642431701516\n"
          ],
          "name": "stdout"
        }
      ]
    },
    {
      "cell_type": "code",
      "metadata": {
        "id": "XHlClblKO01P",
        "colab_type": "code",
        "outputId": "e3593ee6-23d5-472c-bb22-54ea997fafa1",
        "colab": {
          "base_uri": "https://localhost:8080/",
          "height": 51
        }
      },
      "source": [
        "# Apply the optimal alpha into the train / test dataset, retrain the model\n",
        "lr_train_xp1 = poly.fit_transform(model_train_x)\n",
        "lasso_poly = linear_model.Ridge()\n",
        "lasso_poly.set_params(alpha = opt_a)\n",
        "lasso_poly.fit(lr_train_xp1,model_train_y)"
      ],
      "execution_count": 0,
      "outputs": [
        {
          "output_type": "execute_result",
          "data": {
            "text/plain": [
              "Ridge(alpha=153.41173650890957, copy_X=True, fit_intercept=True, max_iter=None,\n",
              "      normalize=False, random_state=None, solver='auto', tol=0.001)"
            ]
          },
          "metadata": {
            "tags": []
          },
          "execution_count": 30
        }
      ]
    },
    {
      "cell_type": "markdown",
      "metadata": {
        "id": "dkzlYAOKsbIQ",
        "colab_type": "text"
      },
      "source": [
        "4.1.2 Ridge linear regression"
      ]
    },
    {
      "cell_type": "markdown",
      "metadata": {
        "id": "Oiw4Z5fqsyyL",
        "colab_type": "text"
      },
      "source": [
        "1)All features are linear"
      ]
    },
    {
      "cell_type": "code",
      "metadata": {
        "id": "EfKypSLV0dp2",
        "colab_type": "code",
        "outputId": "8640ce0c-7024-4e9f-c9ee-3bdc4f6def15",
        "colab": {
          "base_uri": "https://localhost:8080/",
          "height": 332
        }
      },
      "source": [
        "# We try to find the optimal alpha in this step, in the next step we will apply it into the train / test dataset\n",
        "# split model_train dataset\n",
        "rr_model_train, rr_model_validation = train_test_split(model_train, test_size = 0.15, random_state = 0) \n",
        "rr_model_train_x = rr_model_train.drop(['video_id','cvt_per_day'], axis =1)\n",
        "rr_model_validation_x = rr_model_validation.drop(['video_id','cvt_per_day'], axis =1)\n",
        "rr_model_train_y = rr_model_train['cvt_per_day']\n",
        "rr_model_validation_y = rr_model_validation['cvt_per_day']\n",
        "\n",
        "# alpha range\n",
        "# alpha is a constant that multiplies the L2 term\n",
        "alphas = np.logspace(-0.3,3,num=150)\n",
        "# Return an array of ones with the same shape and type as given alphas array\n",
        "scores = np.empty_like(alphas)\n",
        "opt_a = float('-inf')\n",
        "max_score = float('-inf')\n",
        "# grid searching, find the optimal alpha and highest score\n",
        "for i,a in enumerate(alphas):\n",
        "  ridge = linear_model.Ridge()\n",
        "  ridge.set_params(alpha=a)\n",
        "  ridge.fit(rr_model_train_x,rr_model_train_y)\n",
        "  # the score returns the coefficient of determination R^2 (1-u/v) of the prediction.\n",
        "  # The best R^2 is 1\n",
        "  scores[i] = ridge.score(rr_model_validation_x,rr_model_validation_y)\n",
        "  if scores[i] > max_score:\n",
        "    max_score = scores[i]\n",
        "    opt_a = a\n",
        "    best_ridge = ridge\n",
        "# plot score and alpha\n",
        "plt.plot(alphas,scores,linestyle='dashed',marker='o')\n",
        "plt.xlabel('alpha')\n",
        "plt.ylabel('score')\n",
        "plt.title('score and alpha')\n",
        "plt.show()\n",
        "# alpha = 0 is equivalent to an ordinary least square, solved by the LinearRegression object.\n",
        "print('Ridge Linear Regression: The optimal alpha is ', opt_a, 'The max score is ', max_score)"
      ],
      "execution_count": 0,
      "outputs": [
        {
          "output_type": "display_data",
          "data": {
            "image/png": "[encoded data removed]",
            "text/plain": [
              "<Figure size 432x288 with 1 Axes>"
            ]
          },
          "metadata": {
            "tags": []
          }
        },
        {
          "output_type": "stream",
          "text": [
            "Ridge Linear Regression: The optimal alpha is  176.59559477043035 The max score is  0.35296977899760773\n"
          ],
          "name": "stdout"
        }
      ]
    },
    {
      "cell_type": "code",
      "metadata": {
        "id": "CtsR9lXOunIc",
        "colab_type": "code",
        "outputId": "1995bbcf-3457-418c-e5df-1845653b38b6",
        "colab": {
          "base_uri": "https://localhost:8080/",
          "height": 51
        }
      },
      "source": [
        "# Apply the optimal alpha into the train / test dataset, retrain the model\n",
        "ridge_li = linear_model.Ridge()\n",
        "ridge_li.set_params(alpha = opt_a)\n",
        "ridge_li.fit(model_train_x,model_train_y)"
      ],
      "execution_count": 0,
      "outputs": [
        {
          "output_type": "execute_result",
          "data": {
            "text/plain": [
              "Ridge(alpha=176.59559477043035, copy_X=True, fit_intercept=True, max_iter=None,\n",
              "      normalize=False, random_state=None, solver='auto', tol=0.001)"
            ]
          },
          "metadata": {
            "tags": []
          },
          "execution_count": 32
        }
      ]
    },
    {
      "cell_type": "markdown",
      "metadata": {
        "id": "qUXbJdMatr8a",
        "colab_type": "text"
      },
      "source": [
        "2)Polynomial features"
      ]
    },
    {
      "cell_type": "code",
      "metadata": {
        "id": "oHsYKKaYtuNd",
        "colab_type": "code",
        "outputId": "7c6a12a7-8940-4b88-bfc6-c6a5e4b42867",
        "colab": {
          "base_uri": "https://localhost:8080/",
          "height": 312
        }
      },
      "source": [
        "from sklearn.preprocessing import PolynomialFeatures\n",
        "\n",
        "poly = PolynomialFeatures(2)\n",
        "\n",
        "rr_model_train, rr_model_validation = train_test_split(model_train, test_size = 0.15, random_state = 0) \n",
        "rr_model_train_x = rr_model_train.drop(['video_id','cvt_per_day'], axis =1)\n",
        "rr_model_validation_x = rr_model_validation.drop(['video_id','cvt_per_day'], axis =1)\n",
        "rr_model_train_y = rr_model_train['cvt_per_day']\n",
        "rr_model_validation_y = rr_model_validation['cvt_per_day']\n",
        "\n",
        "rr_model_train_xp = poly.fit_transform(rr_model_train_x)\n",
        "rr_model_validation_xp = poly.fit_transform(rr_model_validation_x)\n",
        "\n",
        "alphas = np.logspace(-0.3,2.5,num=100)\n",
        "scores = np.empty_like(alphas)\n",
        "opt_a = float('-inf')\n",
        "max_score = float('-inf')\n",
        "# grid searching, find the optimal alpha and highest score\n",
        "for i,a in enumerate(alphas):\n",
        "  ridge = linear_model.Ridge()\n",
        "  ridge.set_params(alpha=a)\n",
        "  ridge.fit(rr_model_train_xp,rr_model_train_y)\n",
        "  scores[i] = ridge.score(rr_model_validation_xp,rr_model_validation_y)\n",
        "  if scores[i] > max_score:\n",
        "    max_score = scores[i]\n",
        "    opt_a = a\n",
        "    best_ridge = ridge\n",
        "# plot score and alpha\n",
        "plt.plot(alphas,scores,linestyle='dashed',marker='o')\n",
        "plt.xlabel('alpha')\n",
        "plt.ylabel('score')\n",
        "plt.title('score and alpha')\n",
        "plt.show()\n",
        "# alpha = 0 is equivalent to an ordinary least square, solved by the LinearRegression object.\n",
        "print('Ridge Polynomial: The optimal alpha is ', opt_a, 'The max score is ', max_score)"
      ],
      "execution_count": 0,
      "outputs": [
        {
          "output_type": "display_data",
          "data": {
            "image/png": "[encoded data removed]",
            "text/plain": [
              "<Figure size 432x288 with 1 Axes>"
            ]
          },
          "metadata": {
            "tags": []
          }
        },
        {
          "output_type": "stream",
          "text": [
            "Ridge Polynomial: The optimal alpha is  14.81518471823528 The max score is  0.46814639322091167\n"
          ],
          "name": "stdout"
        }
      ]
    },
    {
      "cell_type": "code",
      "metadata": {
        "id": "PClLlOLfvAPH",
        "colab_type": "code",
        "outputId": "87e9e856-d6df-4aa0-9d7f-80d2ddcb1ac8",
        "colab": {
          "base_uri": "https://localhost:8080/",
          "height": 51
        }
      },
      "source": [
        "# Apply the optimal alpha into the train / test dataset, retrain the model\n",
        "rr_train_xp1 = poly.fit_transform(model_train_x)\n",
        "ridge_poly = linear_model.Ridge()\n",
        "ridge_poly.set_params(alpha = opt_a)\n",
        "ridge_poly.fit(rr_train_xp1,model_train_y)"
      ],
      "execution_count": 0,
      "outputs": [
        {
          "output_type": "execute_result",
          "data": {
            "text/plain": [
              "Ridge(alpha=14.81518471823528, copy_X=True, fit_intercept=True, max_iter=None,\n",
              "      normalize=False, random_state=None, solver='auto', tol=0.001)"
            ]
          },
          "metadata": {
            "tags": []
          },
          "execution_count": 34
        }
      ]
    },
    {
      "cell_type": "markdown",
      "metadata": {
        "id": "RJwE24Y2vhKH",
        "colab_type": "text"
      },
      "source": [
        "**4.2 Nonlinear models**"
      ]
    },
    {
      "cell_type": "markdown",
      "metadata": {
        "id": "4-Tn6m5ivsLi",
        "colab_type": "text"
      },
      "source": [
        "Random Forest"
      ]
    },
    {
      "cell_type": "code",
      "metadata": {
        "id": "EvroY1SI86rp",
        "colab_type": "code",
        "outputId": "b1a4573c-c50e-4426-c7f2-d3cd7e5cc3d6",
        "colab": {
          "base_uri": "https://localhost:8080/",
          "height": 329
        }
      },
      "source": [
        "from sklearn.model_selection import GridSearchCV\n",
        "from sklearn.ensemble import RandomForestRegressor\n",
        "\n",
        "# rf_model_train, rf_model_validation = train_test_split(model_train, test_size = 0.15, random_state = 0) \n",
        "# rf_model_validation_x = rf_model_validation.drop(['video_id','cvt_per_day'], axis =1)\n",
        "# rf_model_validation_y = rf_model_validation['cvt_per_day']\n",
        "\n",
        "rf_model_train_x = model_train.drop(['video_id','cvt_per_day'], axis =1)\n",
        "rf_model_train_y = model_train['cvt_per_day']\n",
        "\n",
        "# store the random forest parameters used for grid search\n",
        "parameters = {'n_estimators':[80,90,100,110], 'max_depth':[3,6,9,12,15,17]}\n",
        "rf = RandomForestRegressor(random_state=0)\n",
        "grid_rf = GridSearchCV(rf, parameters, cv=5)\n",
        "grid_rf.fit(rf_model_train_x, rf_model_train_y)"
      ],
      "execution_count": 0,
      "outputs": [
        {
          "output_type": "execute_result",
          "data": {
            "text/plain": [
              "GridSearchCV(cv=5, error_score='raise-deprecating',\n",
              "             estimator=RandomForestRegressor(bootstrap=True, criterion='mse',\n",
              "                                             max_depth=None,\n",
              "                                             max_features='auto',\n",
              "                                             max_leaf_nodes=None,\n",
              "                                             min_impurity_decrease=0.0,\n",
              "                                             min_impurity_split=None,\n",
              "                                             min_samples_leaf=1,\n",
              "                                             min_samples_split=2,\n",
              "                                             min_weight_fraction_leaf=0.0,\n",
              "                                             n_estimators='warn', n_jobs=None,\n",
              "                                             oob_score=False, random_state=0,\n",
              "                                             verbose=0, warm_start=False),\n",
              "             iid='warn', n_jobs=None,\n",
              "             param_grid={'max_depth': [3, 6, 9, 12, 15, 17],\n",
              "                         'n_estimators': [80, 90, 100, 110]},\n",
              "             pre_dispatch='2*n_jobs', refit=True, return_train_score=False,\n",
              "             scoring=None, verbose=0)"
            ]
          },
          "metadata": {
            "tags": []
          },
          "execution_count": 35
        }
      ]
    },
    {
      "cell_type": "code",
      "metadata": {
        "id": "m-_BnOK3AFCl",
        "colab_type": "code",
        "outputId": "9994b5bb-60de-4cf9-9af2-9c19ac7e552a",
        "colab": {
          "base_uri": "https://localhost:8080/",
          "height": 34
        }
      },
      "source": [
        "# get the best parameters\n",
        "grid_rf.best_params_"
      ],
      "execution_count": 0,
      "outputs": [
        {
          "output_type": "execute_result",
          "data": {
            "text/plain": [
              "{'max_depth': 12, 'n_estimators': 90}"
            ]
          },
          "metadata": {
            "tags": []
          },
          "execution_count": 36
        }
      ]
    },
    {
      "cell_type": "code",
      "metadata": {
        "id": "IRnEYy3WASjv",
        "colab_type": "code",
        "outputId": "72e8abe9-7125-4038-931f-5595bc8e7192",
        "colab": {
          "base_uri": "https://localhost:8080/",
          "height": 1000
        }
      },
      "source": [
        "grid_rf.cv_results_"
      ],
      "execution_count": 0,
      "outputs": [
        {
          "output_type": "execute_result",
          "data": {
            "text/plain": [
              "{'mean_fit_time': array([0.37515407, 0.41725764, 0.46372128, 0.51262684, 0.65420637,\n",
              "        0.73636212, 0.82088757, 0.89739861, 0.96404099, 1.08011127,\n",
              "        1.20086889, 1.32330384, 1.28340678, 1.44005809, 1.59948697,\n",
              "        1.76128149, 1.56858163, 1.76273108, 1.96708264, 2.1720459 ,\n",
              "        1.72204661, 1.93579445, 2.14983401, 2.3656652 ]),\n",
              " 'mean_score_time': array([0.00692863, 0.00743155, 0.00813909, 0.00859151, 0.00859666,\n",
              "        0.00941529, 0.01000366, 0.01088338, 0.01065774, 0.01185737,\n",
              "        0.01267729, 0.01374941, 0.01323686, 0.01462541, 0.01706166,\n",
              "        0.0173667 , 0.01584735, 0.01761656, 0.01910262, 0.02114849,\n",
              "        0.01730342, 0.01932335, 0.02104306, 0.02269092]),\n",
              " 'mean_test_score': array([0.34468434, 0.34738242, 0.34532226, 0.34561066, 0.44669436,\n",
              "        0.45123868, 0.44991573, 0.44918834, 0.46006836, 0.46241842,\n",
              "        0.46210179, 0.46152925, 0.46981355, 0.47224949, 0.46865176,\n",
              "        0.46660718, 0.46400432, 0.4672552 , 0.46609595, 0.46460621,\n",
              "        0.466154  , 0.46917541, 0.46781314, 0.46760051]),\n",
              " 'param_max_depth': masked_array(data=[3, 3, 3, 3, 6, 6, 6, 6, 9, 9, 9, 9, 12, 12, 12, 12, 15,\n",
              "                    15, 15, 15, 17, 17, 17, 17],\n",
              "              mask=[False, False, False, False, False, False, False, False,\n",
              "                    False, False, False, False, False, False, False, False,\n",
              "                    False, False, False, False, False, False, False, False],\n",
              "        fill_value='?',\n",
              "             dtype=object),\n",
              " 'param_n_estimators': masked_array(data=[80, 90, 100, 110, 80, 90, 100, 110, 80, 90, 100, 110,\n",
              "                    80, 90, 100, 110, 80, 90, 100, 110, 80, 90, 100, 110],\n",
              "              mask=[False, False, False, False, False, False, False, False,\n",
              "                    False, False, False, False, False, False, False, False,\n",
              "                    False, False, False, False, False, False, False, False],\n",
              "        fill_value='?',\n",
              "             dtype=object),\n",
              " 'params': [{'max_depth': 3, 'n_estimators': 80},\n",
              "  {'max_depth': 3, 'n_estimators': 90},\n",
              "  {'max_depth': 3, 'n_estimators': 100},\n",
              "  {'max_depth': 3, 'n_estimators': 110},\n",
              "  {'max_depth': 6, 'n_estimators': 80},\n",
              "  {'max_depth': 6, 'n_estimators': 90},\n",
              "  {'max_depth': 6, 'n_estimators': 100},\n",
              "  {'max_depth': 6, 'n_estimators': 110},\n",
              "  {'max_depth': 9, 'n_estimators': 80},\n",
              "  {'max_depth': 9, 'n_estimators': 90},\n",
              "  {'max_depth': 9, 'n_estimators': 100},\n",
              "  {'max_depth': 9, 'n_estimators': 110},\n",
              "  {'max_depth': 12, 'n_estimators': 80},\n",
              "  {'max_depth': 12, 'n_estimators': 90},\n",
              "  {'max_depth': 12, 'n_estimators': 100},\n",
              "  {'max_depth': 12, 'n_estimators': 110},\n",
              "  {'max_depth': 15, 'n_estimators': 80},\n",
              "  {'max_depth': 15, 'n_estimators': 90},\n",
              "  {'max_depth': 15, 'n_estimators': 100},\n",
              "  {'max_depth': 15, 'n_estimators': 110},\n",
              "  {'max_depth': 17, 'n_estimators': 80},\n",
              "  {'max_depth': 17, 'n_estimators': 90},\n",
              "  {'max_depth': 17, 'n_estimators': 100},\n",
              "  {'max_depth': 17, 'n_estimators': 110}],\n",
              " 'rank_test_score': array([24, 21, 23, 22, 20, 17, 18, 19, 16, 13, 14, 15,  2,  1,  4,  8, 12,\n",
              "         7, 10, 11,  9,  3,  5,  6], dtype=int32),\n",
              " 'split0_test_score': array([0.33460562, 0.32955704, 0.32986857, 0.33141407, 0.43372903,\n",
              "        0.43606821, 0.43659147, 0.43353657, 0.44384832, 0.45125295,\n",
              "        0.44933779, 0.44498137, 0.4537284 , 0.45678565, 0.45385816,\n",
              "        0.44795552, 0.45405423, 0.46206111, 0.460124  , 0.45504313,\n",
              "        0.45113127, 0.45739836, 0.45859438, 0.45610255]),\n",
              " 'split1_test_score': array([0.41753455, 0.43318093, 0.43173472, 0.43425423, 0.56302927,\n",
              "        0.57570539, 0.57115948, 0.57671925, 0.58616755, 0.59714992,\n",
              "        0.59283697, 0.59454259, 0.59241239, 0.6029277 , 0.59569121,\n",
              "        0.59675964, 0.59774957, 0.60822445, 0.60294633, 0.60262755,\n",
              "        0.59615422, 0.60608033, 0.6033686 , 0.60577874]),\n",
              " 'split2_test_score': array([0.38010126, 0.38161638, 0.38173379, 0.37831456, 0.42097034,\n",
              "        0.42046411, 0.4220485 , 0.42552063, 0.43550627, 0.43147246,\n",
              "        0.43766305, 0.43993629, 0.43780179, 0.43418502, 0.43757153,\n",
              "        0.43905537, 0.43329747, 0.42895789, 0.43446462, 0.43830971,\n",
              "        0.42958056, 0.42447259, 0.43062126, 0.43553842]),\n",
              " 'split3_test_score': array([0.53963427, 0.53685088, 0.54387807, 0.5484822 , 0.67152973,\n",
              "        0.66982892, 0.67584429, 0.67634318, 0.67818899, 0.67526243,\n",
              "        0.68461574, 0.68565413, 0.68374246, 0.67832196, 0.68760537,\n",
              "        0.68853772, 0.68218983, 0.67736917, 0.68531484, 0.68768568,\n",
              "        0.68674366, 0.68216133, 0.69040423, 0.68940455]),\n",
              " 'split4_test_score': array([0.05145856, 0.05561221, 0.03929731, 0.03548457, 0.14406944,\n",
              "        0.15397456, 0.14378459, 0.13366627, 0.15647764, 0.15678225,\n",
              "        0.1458911 , 0.14236967, 0.18123437, 0.18886665, 0.1683762 ,\n",
              "        0.16057238, 0.15255811, 0.15947429, 0.1474477 , 0.13918605,\n",
              "        0.16700014, 0.17559016, 0.15590129, 0.15100184]),\n",
              " 'std_fit_time': array([0.00296015, 0.00127147, 0.00199287, 0.00696079, 0.00173878,\n",
              "        0.00270525, 0.0081745 , 0.00115278, 0.00828982, 0.00628766,\n",
              "        0.01021793, 0.00947279, 0.00904858, 0.0114085 , 0.01072883,\n",
              "        0.01452491, 0.00851633, 0.00622115, 0.01663416, 0.0089532 ,\n",
              "        0.00606973, 0.00790501, 0.00974146, 0.01251688]),\n",
              " 'std_score_time': array([1.94438992e-04, 1.43573079e-04, 1.64627461e-04, 1.42516456e-04,\n",
              "        2.32306186e-04, 4.19824224e-04, 2.04310261e-04, 2.25022198e-04,\n",
              "        1.76100901e-04, 3.56614062e-04, 2.28981930e-04, 3.38008716e-04,\n",
              "        2.73349312e-04, 2.87300446e-04, 2.56128812e-03, 3.84025281e-04,\n",
              "        8.58130172e-05, 3.19623503e-04, 4.10595431e-04, 3.63145211e-04,\n",
              "        1.82713857e-04, 2.62629553e-04, 1.59641420e-04, 2.40087467e-04]),\n",
              " 'std_test_score': array([0.16160737, 0.16113201, 0.16854614, 0.17111019, 0.17687756,\n",
              "        0.17478766, 0.1790785 , 0.18338598, 0.17688792, 0.17770112,\n",
              "        0.18291219, 0.18463884, 0.17046866, 0.16821523, 0.17627602,\n",
              "        0.17938314, 0.18081336, 0.17898683, 0.18400526, 0.18730964,\n",
              "        0.17694792, 0.17457188, 0.18254435, 0.1841833 ])}"
            ]
          },
          "metadata": {
            "tags": []
          },
          "execution_count": 37
        }
      ]
    },
    {
      "cell_type": "code",
      "metadata": {
        "id": "HNjUKy21BDzh",
        "colab_type": "code",
        "outputId": "e4c89231-bc3b-4c10-c1a2-b747b3f0f0a7",
        "colab": {
          "base_uri": "https://localhost:8080/",
          "height": 279
        }
      },
      "source": [
        "# plot the effect of different number of trees and maximum tree-depth druing cross validation \n",
        "# because we use cross-validation here: cv=5, we need to retrieve mean score\n",
        "scores = grid_rf.cv_results_['mean_test_score']\n",
        "n_estimators = [80,90,100,110]\n",
        "max_depth = [3,6,9,12,15,17]\n",
        "scores = np.array(scores).reshape(len(max_depth), len(n_estimators))\n",
        "fig = plt.figure()\n",
        "\n",
        "for ind, i in enumerate(max_depth):\n",
        "    plt.plot(n_estimators, scores[ind], '-o', label='max depth' + str(i))\n",
        "\n",
        "plt.legend(bbox_to_anchor=(1, 0.7))\n",
        "\n",
        "plt.xlabel('Estimator')\n",
        "plt.ylabel('Mean score')\n",
        "plt.grid(True)\n",
        "plt.show()"
      ],
      "execution_count": 0,
      "outputs": [
        {
          "output_type": "display_data",
          "data": {
            "image/png": "[encoded data removed]",
            "text/plain": [
              "<Figure size 432x288 with 1 Axes>"
            ]
          },
          "metadata": {
            "tags": []
          }
        }
      ]
    },
    {
      "cell_type": "code",
      "metadata": {
        "id": "kYh5jdcsI-SO",
        "colab_type": "code",
        "outputId": "09f2d221-0401-450c-b813-355467857db5",
        "colab": {
          "base_uri": "https://localhost:8080/",
          "height": 138
        }
      },
      "source": [
        "rf = RandomForestRegressor(n_estimators=90,max_depth=12,random_state=0)\n",
        "rf.fit(model_train_x,model_train_y)"
      ],
      "execution_count": 0,
      "outputs": [
        {
          "output_type": "execute_result",
          "data": {
            "text/plain": [
              "RandomForestRegressor(bootstrap=True, criterion='mse', max_depth=12,\n",
              "                      max_features='auto', max_leaf_nodes=None,\n",
              "                      min_impurity_decrease=0.0, min_impurity_split=None,\n",
              "                      min_samples_leaf=1, min_samples_split=2,\n",
              "                      min_weight_fraction_leaf=0.0, n_estimators=90,\n",
              "                      n_jobs=None, oob_score=False, random_state=0, verbose=0,\n",
              "                      warm_start=False)"
            ]
          },
          "metadata": {
            "tags": []
          },
          "execution_count": 39
        }
      ]
    },
    {
      "cell_type": "markdown",
      "metadata": {
        "id": "vA_Ksp64ba7u",
        "colab_type": "text"
      },
      "source": [
        "# **5. Model Evaluation**"
      ]
    },
    {
      "cell_type": "markdown",
      "metadata": {
        "id": "wl8pw3jzbfhQ",
        "colab_type": "text"
      },
      "source": [
        "We use test dataset here to evaluate different models."
      ]
    },
    {
      "cell_type": "markdown",
      "metadata": {
        "id": "ZTfl3rX-cEUt",
        "colab_type": "text"
      },
      "source": [
        "**5.1 Lasso test with linear features**"
      ]
    },
    {
      "cell_type": "code",
      "metadata": {
        "id": "C0dWblUnb0B_",
        "colab_type": "code",
        "outputId": "38c2d15d-de34-4078-8658-9476181c0b81",
        "colab": {
          "base_uri": "https://localhost:8080/",
          "height": 69
        }
      },
      "source": [
        "# lasso linear regression score\n",
        "lasso_li_score = lasso_li.score(model_test_x,model_test_y)\n",
        "# predict cvt_per_day\n",
        "pred_y = lasso_li.predict(model_test_x)\n",
        "\n",
        "# calculate the MSE and RMSE between real target and predicted target\n",
        "MSE_lasso_li = mean_squared_error(model_test_y,pred_y)\n",
        "RMSE_lasso_li = sqrt(MSE_lasso_li)\n",
        "\n",
        "print('Lasso Linear Regression''s Score is: ', lasso_li_score)\n",
        "print('Lasso Linear Regression''s MSE is: ', MSE_lasso_li)\n",
        "print('Lasso Linear Regression''s RMSE is: ', RMSE_lasso_li)\n"
      ],
      "execution_count": 0,
      "outputs": [
        {
          "output_type": "stream",
          "text": [
            "Lasso Linear Regressions Score is:  0.09930986035024358\n",
            "Lasso Linear Regressions MSE is:  239016724.7670242\n",
            "Lasso Linear Regressions RMSE is:  15460.165741900188\n"
          ],
          "name": "stdout"
        }
      ]
    },
    {
      "cell_type": "markdown",
      "metadata": {
        "id": "7JRpsKp-nCCy",
        "colab_type": "text"
      },
      "source": [
        "**5.2 Lasso test with polynomial features**"
      ]
    },
    {
      "cell_type": "code",
      "metadata": {
        "id": "BfJ8CsofnK1I",
        "colab_type": "code",
        "outputId": "3251c7f0-b18c-4a09-f4d7-f5a0ee4da966",
        "colab": {
          "base_uri": "https://localhost:8080/",
          "height": 69
        }
      },
      "source": [
        "# poly fit x\n",
        "model_test_xp = poly.fit_transform(model_test_x)\n",
        "lasso_poly_score = lasso_poly.score(model_test_xp,model_test_y)\n",
        "pred_y = lasso_poly.predict(model_test_xp)\n",
        "\n",
        "# calculate the MSE and RMSE between real target and predicted target\n",
        "MSE_lasso_poly = mean_squared_error(model_test_y,pred_y)\n",
        "RMSE_lasso_poly = sqrt(MSE_lasso_poly)\n",
        "\n",
        "print('Lasso Polynomial Regression''s Score is: ', lasso_poly_score)\n",
        "print('Lasso Polynomial Regression''s MSE is: ', MSE_lasso_poly)\n",
        "print('Lasso Polynomial Regression''s RMSE is: ', RMSE_lasso_poly)"
      ],
      "execution_count": 0,
      "outputs": [
        {
          "output_type": "stream",
          "text": [
            "Lasso Polynomial Regressions Score is:  0.3734079766624061\n",
            "Lasso Polynomial Regressions MSE is:  166279130.40275168\n",
            "Lasso Polynomial Regressions RMSE is:  12894.926537315041\n"
          ],
          "name": "stdout"
        }
      ]
    },
    {
      "cell_type": "markdown",
      "metadata": {
        "id": "7ttjnzKdnPBA",
        "colab_type": "text"
      },
      "source": [
        "**5.3 Ridge test with linear features**"
      ]
    },
    {
      "cell_type": "code",
      "metadata": {
        "id": "kFdbVUq2nTtf",
        "colab_type": "code",
        "outputId": "07f84947-9279-417a-dd15-14a3a5eea1d2",
        "colab": {
          "base_uri": "https://localhost:8080/",
          "height": 69
        }
      },
      "source": [
        "ridge_li_score = ridge_li.score(model_test_x,model_test_y)\n",
        "pred_y = ridge_li.predict(model_test_x)\n",
        "\n",
        "# calculate the MSE and RMSE between real target and predicted target\n",
        "MSE_ridge_li = mean_squared_error(model_test_y,pred_y)\n",
        "RMSE_ridge_li = sqrt(MSE_ridge_li)\n",
        "\n",
        "print('Ridge Linear Regression''s Score is: ', ridge_li_score)\n",
        "print('Ridge Linear Regression''s MSE is: ', MSE_ridge_li)\n",
        "print('Ridge Linear Regression''s RMSE is: ', RMSE_ridge_li)\n"
      ],
      "execution_count": 0,
      "outputs": [
        {
          "output_type": "stream",
          "text": [
            "Ridge Linear Regressions Score is:  0.11387665650808998\n",
            "Ridge Linear Regressions MSE is:  235151124.6513715\n",
            "Ridge Linear Regressions RMSE is:  15334.638067178876\n"
          ],
          "name": "stdout"
        }
      ]
    },
    {
      "cell_type": "markdown",
      "metadata": {
        "id": "Awq2ihHSoTfh",
        "colab_type": "text"
      },
      "source": [
        "**5.4 Ridge test with polynomial features**"
      ]
    },
    {
      "cell_type": "code",
      "metadata": {
        "id": "WIJnVtumoYCS",
        "colab_type": "code",
        "outputId": "e08426b7-7afd-4743-d8af-1834ef8ebcfa",
        "colab": {
          "base_uri": "https://localhost:8080/",
          "height": 69
        }
      },
      "source": [
        "# poly fit x\n",
        "model_test_xp = poly.fit_transform(model_test_x)\n",
        "ridge_poly_score = ridge_poly.score(model_test_xp,model_test_y)\n",
        "pred_y = ridge_poly.predict(model_test_xp)\n",
        "\n",
        "# calculate the MSE and RMSE between real target and predicted target\n",
        "MSE_ridge_poly = mean_squared_error(model_test_y,pred_y)\n",
        "RMSE_ridge_poly = sqrt(MSE_ridge_poly)\n",
        "\n",
        "print('Ridge Polynomial Regression''s Score is: ', ridge_poly_score)\n",
        "print('Ridge Polynomial Regression''s MSE is: ', MSE_ridge_poly)\n",
        "print('Ridge Polynomial Regression''s RMSE is: ', RMSE_ridge_poly)"
      ],
      "execution_count": 0,
      "outputs": [
        {
          "output_type": "stream",
          "text": [
            "Ridge Polynomial Regressions Score is:  0.3817425582217332\n",
            "Ridge Polynomial Regressions MSE is:  164067377.10500973\n",
            "Ridge Polynomial Regressions RMSE is:  12808.878838720027\n"
          ],
          "name": "stdout"
        }
      ]
    },
    {
      "cell_type": "markdown",
      "metadata": {
        "id": "v3L2f9MOqM82",
        "colab_type": "text"
      },
      "source": [
        "**5.5 Random forest test**"
      ]
    },
    {
      "cell_type": "code",
      "metadata": {
        "id": "xJEpG75IqWt9",
        "colab_type": "code",
        "outputId": "d3f86792-f01c-447b-daed-cbdc15e4cf4f",
        "colab": {
          "base_uri": "https://localhost:8080/",
          "height": 69
        }
      },
      "source": [
        "rf_score = rf.score(model_test_x,model_test_y)\n",
        "pred_y = rf.predict(model_test_x)\n",
        "\n",
        "MSE_rf = mean_squared_error(model_test_y, pred_y)\n",
        "RMSE_rf = sqrt(MSE_rf)\n",
        "\n",
        "print('Random Forest''s Score is: ', rf_score)\n",
        "print('Random Forest''s MSE is: ', MSE_rf)\n",
        "print('Random Forest''s RMSE is: ', RMSE_rf)"
      ],
      "execution_count": 0,
      "outputs": [
        {
          "output_type": "stream",
          "text": [
            "Random Forests Score is:  0.6171357696886326\n",
            "Random Forests MSE is:  101600928.3670583\n",
            "Random Forests RMSE is:  10079.728585981782\n"
          ],
          "name": "stdout"
        }
      ]
    },
    {
      "cell_type": "markdown",
      "metadata": {
        "id": "W6Biq30trZM3",
        "colab_type": "text"
      },
      "source": [
        "**5.6 Compare the 5 models**"
      ]
    },
    {
      "cell_type": "markdown",
      "metadata": {
        "id": "SywR95-LF213",
        "colab_type": "text"
      },
      "source": [
        "Plot r-square score, MSE and RMSE and compare the 5 models"
      ]
    },
    {
      "cell_type": "code",
      "metadata": {
        "id": "YKwEy_HpGiDb",
        "colab_type": "code",
        "outputId": "50655d0d-db03-4722-e6aa-28ecd9e05dda",
        "colab": {
          "base_uri": "https://localhost:8080/",
          "height": 814
        }
      },
      "source": [
        "score_lst = [lasso_li_score, lasso_poly_score, ridge_li_score, ridge_poly_score, rf_score]\n",
        "MSE_lst = [MSE_lasso_li, MSE_lasso_poly, MSE_ridge_li, MSE_ridge_poly, MSE_rf]\n",
        "RMSE_lst = [RMSE_lasso_li, RMSE_lasso_poly, RMSE_ridge_li, RMSE_ridge_poly, RMSE_rf]\n",
        "model_lst = ['Lasso Linear','Lasso Polynomial', 'Ridge Linear','Ridge Polynomial','Random Forest']\n",
        "\n",
        "plt.figure()\n",
        "plt.plot(model_lst,score_lst,'bo',label = 'score / r-square')\n",
        "plt.legend(loc='upper left')\n",
        "plt.xlabel('Model Name')\n",
        "plt.ylabel('Score')\n",
        "plt.show()\n",
        "\n",
        "plt.figure()\n",
        "plt.plot(model_lst,MSE_lst,'ro',label = 'MSE')\n",
        "plt.legend(loc='center')\n",
        "plt.xlabel('Model Name')\n",
        "plt.ylabel('MSE')\n",
        "plt.show()\n",
        "\n",
        "plt.figure()\n",
        "plt.plot(model_lst,RMSE_lst,'go',label = 'RMSE')\n",
        "plt.legend(loc='center')\n",
        "plt.xlabel('Model Name')\n",
        "plt.ylabel('RMSE')\n",
        "plt.show()"
      ],
      "execution_count": 0,
      "outputs": [
        {
          "output_type": "display_data",
          "data": {
            "image/png": "[encoded data removed]",
            "text/plain": [
              "<Figure size 432x288 with 1 Axes>"
            ]
          },
          "metadata": {
            "tags": []
          }
        },
        {
          "output_type": "display_data",
          "data": {
            "image/png": "[encoded data removed]",
            "text/plain": [
              "<Figure size 432x288 with 1 Axes>"
            ]
          },
          "metadata": {
            "tags": []
          }
        },
        {
          "output_type": "display_data",
          "data": {
            "image/png": "[encoded data removed]",
            "text/plain": [
              "<Figure size 432x288 with 1 Axes>"
            ]
          },
          "metadata": {
            "tags": []
          }
        }
      ]
    },
    {
      "cell_type": "markdown",
      "metadata": {
        "id": "VE1H-EcpKYRd",
        "colab_type": "text"
      },
      "source": [
        "Random forest has the highest score, lowest RSE and RMSE. So we can choose random forest."
      ]
    },
    {
      "cell_type": "markdown",
      "metadata": {
        "id": "-9f5h982KjS4",
        "colab_type": "text"
      },
      "source": [
        "# **6. Feature importance**"
      ]
    },
    {
      "cell_type": "markdown",
      "metadata": {
        "id": "HDhpzTGfGbod",
        "colab_type": "text"
      },
      "source": [
        "Because we choose random forest here, we can compute the relative importance of each attribute"
      ]
    },
    {
      "cell_type": "code",
      "metadata": {
        "id": "crmjz_NbNdaX",
        "colab_type": "code",
        "outputId": "bd63da55-56f1-4db1-c621-3efe2b065d3f",
        "colab": {
          "base_uri": "https://localhost:8080/",
          "height": 1000
        }
      },
      "source": [
        "# feature importance\n",
        "rf_feature_importance = rf.feature_importances_\n",
        "# return the 'indirect' array of feature indices\n",
        "indices = np.argsort(rf_feature_importance)[::-1]\n",
        "# return the arry of model name \n",
        "feature_name = model_test_x.columns.array\n",
        "\n",
        "print(\"Feature ranking:\")\n",
        "\n",
        "for f in range(model_test_x.shape[1]):\n",
        "    print (\"%d. feature %d %s (%f)\" % (f + 1, indices[f], feature_name[indices[f]], rf_feature_importance[indices[f]]))\n",
        "\n",
        "plt.plot()\n",
        "plt.bar(feature_name[indices[:11]],rf_feature_importance[indices[:11]])\n",
        "plt.xlabel('Feature Name')\n",
        "plt.xticks(rotation='vertical')\n",
        "plt.ylabel('Feature Importance')\n",
        "plt.title('Random Forest Feature Importance')\n",
        "plt.show()"
      ],
      "execution_count": 0,
      "outputs": [
        {
          "output_type": "stream",
          "text": [
            "Feature ranking:\n",
            "1. feature 0 weighted_categorical_position (0.251483)\n",
            "2. feature 2 imdb_votes (0.186643)\n",
            "3. feature 1 weighted_horizontal_poition (0.139555)\n",
            "4. feature 9 import_id_lionsgate (0.076530)\n",
            "5. feature 8 star_category (0.051984)\n",
            "6. feature 7 metacritic_score (0.051032)\n",
            "7. feature 11 import_id_other (0.031201)\n",
            "8. feature 4 boxoffice (0.027747)\n",
            "9. feature 6 duration_in_mins (0.025317)\n",
            "10. feature 5 imdb_rating (0.024617)\n",
            "11. feature 3 budget (0.020389)\n",
            "12. feature 28 Genres_Crime (0.010619)\n",
            "13. feature 10 import_id_mgm (0.009561)\n",
            "14. feature 23 awards_other award (0.005969)\n",
            "15. feature 42 Genres_Thriller (0.005126)\n",
            "16. feature 50 release_2006-2008 (0.004802)\n",
            "17. feature 29 Genres_Documentary (0.004776)\n",
            "18. feature 27 Genres_Comedy (0.004267)\n",
            "19. feature 52 release_2010-2012 (0.003649)\n",
            "20. feature 35 Genres_Kids & Family (0.003609)\n",
            "21. feature 30 Genres_Drama (0.003498)\n",
            "22. feature 40 Genres_Sci-Fi (0.003483)\n",
            "23. feature 53 release_2012-2013 (0.003436)\n",
            "24. feature 22 awards_no award (0.003223)\n",
            "25. feature 54 release_2013-2014 (0.003141)\n",
            "26. feature 44 Genres_Western (0.003119)\n",
            "27. feature 49 release_2001-2006 (0.002981)\n",
            "28. feature 18 mpaa_R (0.002846)\n",
            "29. feature 36 Genres_Music (0.002717)\n",
            "30. feature 51 release_2008-2010 (0.002265)\n",
            "31. feature 16 mpaa_PG (0.002265)\n",
            "32. feature 12 import_id_paramount (0.002211)\n",
            "33. feature 17 mpaa_PG-13 (0.002152)\n",
            "34. feature 41 Genres_Sport (0.002130)\n",
            "35. feature 47 release_1974-1991 (0.002082)\n",
            "36. feature 25 Genres_Adventure (0.002069)\n",
            "37. feature 24 Genres_Action (0.002028)\n",
            "38. feature 26 Genres_Animation (0.001981)\n",
            "39. feature 33 Genres_Horror (0.001939)\n",
            "40. feature 38 Genres_Mystery (0.001761)\n",
            "41. feature 48 release_1991-2001 (0.001724)\n",
            "42. feature 43 Genres_War (0.001404)\n",
            "43. feature 31 Genres_Fantasy (0.001334)\n",
            "44. feature 15 mpaa_NotRated (0.001000)\n",
            "45. feature 39 Genres_Romance (0.000937)\n",
            "46. feature 20 awards_Golden Globe (0.000702)\n",
            "47. feature 55 release_2014-2017 (0.000687)\n",
            "48. feature 21 awards_Oscar (0.000654)\n",
            "49. feature 37 Genres_Musicals (0.000543)\n",
            "50. feature 14 mpaa_NC-17 (0.000218)\n",
            "51. feature 46 release_1916-1974 (0.000217)\n",
            "52. feature 13 mpaa_G (0.000150)\n",
            "53. feature 34 Genres_Independent (0.000146)\n",
            "54. feature 45 Genres_comb (0.000033)\n",
            "55. feature 32 Genres_Foreign/International (0.000027)\n",
            "56. feature 19 awards_BAFTA (0.000021)\n"
          ],
          "name": "stdout"
        },
        {
          "output_type": "display_data",
          "data": {
            "image/png": "[encoded data removed]",
            "text/plain": [
              "<Figure size 432x288 with 1 Axes>"
            ]
          },
          "metadata": {
            "tags": []
          }
        }
      ]
    }
  ]
}